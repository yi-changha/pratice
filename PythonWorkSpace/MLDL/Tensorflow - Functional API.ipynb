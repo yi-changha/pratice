{
 "cells": [
  {
   "cell_type": "markdown",
   "id": "b24857cb",
   "metadata": {},
   "source": [
    "# Functional API"
   ]
  },
  {
   "cell_type": "markdown",
   "id": "90c96223",
   "metadata": {},
   "source": [
    "## Functional API 모델의 필요성\n",
    "- Sequential API 방식은 입력부터 출력까지 일직선으로 연결되어 있어 직관적이고, 편리한 장점이 있음\n",
    "- 그러나, 여러 개의 층을 공유하거나 다양한 종류의 입력과 출력을 사용해서 복잡한 모델을 만드는 일에는\\\n",
    "일직선 구조로 인해 한계가 있음"
   ]
  },
  {
   "cell_type": "markdown",
   "id": "200d7a61",
   "metadata": {},
   "source": [
    "## Functional API 모델 구축\n",
    "1. 입력 데이터 shape을 tf.keras.layers.Input() 함수의 인자로 넣어주어 입력층을 정의\n",
    "2. 이전 층 출력 값을 다음 층 함수의 입력 값으로 사용한 후에, \n",
    "3. tf.keras.models.Model() 함수에 입력과 출력을 넣어주어 모델 구축을 완성"
   ]
  },
  {
   "cell_type": "markdown",
   "id": "cbfd67eb",
   "metadata": {},
   "source": [
    "## 1. MNIST 데이터 불러오기 및 정규화"
   ]
  },
  {
   "cell_type": "code",
   "execution_count": 1,
   "id": "560e0c34",
   "metadata": {
    "scrolled": true
   },
   "outputs": [
    {
     "name": "stdout",
     "output_type": "stream",
     "text": [
      "(60000, 28, 28, 1) (10000, 28, 28, 1)\n",
      "(60000,) (10000,)\n"
     ]
    }
   ],
   "source": [
    "import tensorflow as tf\n",
    "from tensorflow.keras.datasets import mnist\n",
    "from tensorflow.keras.layers import Input, Conv2D, MaxPool2D\n",
    "from tensorflow.keras.layers import Flatten, Dense, Dropout\n",
    "from tensorflow.keras.models import Model\n",
    "\n",
    "(x_train, y_train),(x_test, y_test) = mnist.load_data() # 데이터 불러오기\n",
    "\n",
    "x_train=x_train.reshape(-1, 28, 28, 1) # 텐서로 변환 (높이,너비, 채널)\n",
    "x_test=x_test.reshape(-1, 28, 28, 1)\n",
    "\n",
    "print(x_train.shape, x_test.shape)\n",
    "print(y_train.shape, y_test.shape)\n",
    "\n",
    "x_train = x_train / 255.0 # 정규화\n",
    "x_test = x_test / 255.0"
   ]
  },
  {
   "cell_type": "markdown",
   "id": "4e0cd368",
   "metadata": {},
   "source": [
    "## 2. Functional API CNN 모델 구축"
   ]
  },
  {
   "cell_type": "code",
   "execution_count": 2,
   "id": "ac6a9289",
   "metadata": {},
   "outputs": [],
   "source": [
    "input_ = Input(shape=(28,28,1))\n",
    "\n",
    "x = Conv2D(32, 3, activation='relu')\n",
    "x = x(input_)\n",
    "# [동일코드] 1line으로 표현할 수 있으나 2line으로 표현하여 일반 함수 호출 경우로 혼동 가능성 있음.\n",
    "#x=Conv2D(32, 3, activation='relu')(input_)\n",
    "\n",
    "x = Conv2D(64, 3, activation='relu')(x)\n",
    "x = MaxPool2D(pool_size=(2,2))(x)\n",
    "x = Dropout(0.25)(x)\n",
    "\n",
    "x = Flatten()(x)\n",
    "\n",
    "x = Dense(128, activation='relu')(x)\n",
    "x = Dropout(0.5)(x)\n",
    "\n",
    "output_ = Dense(10, activation='softmax')\n",
    "output_ = output_(x)\n",
    "# [동일코드]\n",
    "#output_ = Dense(10, activation='softmax')(x)\n",
    "\n",
    "cnn = Model(inputs=input_,  outputs=output_)"
   ]
  },
  {
   "cell_type": "markdown",
   "id": "f0216a74",
   "metadata": {},
   "source": [
    "## 3. CNN 모델 컴파일 및 학습"
   ]
  },
  {
   "cell_type": "code",
   "execution_count": 3,
   "id": "1762e5ec",
   "metadata": {},
   "outputs": [
    {
     "name": "stdout",
     "output_type": "stream",
     "text": [
      "Model: \"model\"\n",
      "_________________________________________________________________\n",
      " Layer (type)                Output Shape              Param #   \n",
      "=================================================================\n",
      " input_1 (InputLayer)        [(None, 28, 28, 1)]       0         \n",
      "                                                                 \n",
      " conv2d (Conv2D)             (None, 26, 26, 32)        320       \n",
      "                                                                 \n",
      " conv2d_1 (Conv2D)           (None, 24, 24, 64)        18496     \n",
      "                                                                 \n",
      " max_pooling2d (MaxPooling2D  (None, 12, 12, 64)       0         \n",
      " )                                                               \n",
      "                                                                 \n",
      " dropout (Dropout)           (None, 12, 12, 64)        0         \n",
      "                                                                 \n",
      " flatten (Flatten)           (None, 9216)              0         \n",
      "                                                                 \n",
      " dense (Dense)               (None, 128)               1179776   \n",
      "                                                                 \n",
      " dropout_1 (Dropout)         (None, 128)               0         \n",
      "                                                                 \n",
      " dense_1 (Dense)             (None, 10)                1290      \n",
      "                                                                 \n",
      "=================================================================\n",
      "Total params: 1,199,882\n",
      "Trainable params: 1,199,882\n",
      "Non-trainable params: 0\n",
      "_________________________________________________________________\n"
     ]
    }
   ],
   "source": [
    "cnn.compile(loss='sparse_categorical_crossentropy',\n",
    "            optimizer=tf.keras.optimizers.Adam(), metrics=['accuracy'])\n",
    "\n",
    "cnn.summary()"
   ]
  },
  {
   "cell_type": "code",
   "execution_count": 4,
   "id": "e874797b",
   "metadata": {
    "scrolled": false
   },
   "outputs": [
    {
     "name": "stdout",
     "output_type": "stream",
     "text": [
      "Epoch 1/30\n",
      "469/469 [==============================] - 91s 193ms/step - loss: 0.2322 - accuracy: 0.9291 - val_loss: 0.0542 - val_accuracy: 0.9826\n",
      "Epoch 2/30\n",
      "469/469 [==============================] - 89s 191ms/step - loss: 0.0821 - accuracy: 0.9752 - val_loss: 0.0347 - val_accuracy: 0.9887\n",
      "Epoch 3/30\n",
      "469/469 [==============================] - 113s 242ms/step - loss: 0.0634 - accuracy: 0.9809 - val_loss: 0.0349 - val_accuracy: 0.9883\n",
      "Epoch 4/30\n",
      "469/469 [==============================] - 87s 185ms/step - loss: 0.0494 - accuracy: 0.9851 - val_loss: 0.0355 - val_accuracy: 0.9885\n",
      "Epoch 5/30\n",
      "469/469 [==============================] - 99s 210ms/step - loss: 0.0425 - accuracy: 0.9871 - val_loss: 0.0284 - val_accuracy: 0.9904\n",
      "Epoch 6/30\n",
      "469/469 [==============================] - 116s 248ms/step - loss: 0.0382 - accuracy: 0.9879 - val_loss: 0.0300 - val_accuracy: 0.9903\n",
      "Epoch 7/30\n",
      "469/469 [==============================] - 121s 257ms/step - loss: 0.0341 - accuracy: 0.9890 - val_loss: 0.0288 - val_accuracy: 0.9913\n",
      "Epoch 8/30\n",
      "469/469 [==============================] - 110s 235ms/step - loss: 0.0304 - accuracy: 0.9901 - val_loss: 0.0279 - val_accuracy: 0.9925\n",
      "Epoch 9/30\n",
      "469/469 [==============================] - 117s 249ms/step - loss: 0.0270 - accuracy: 0.9914 - val_loss: 0.0306 - val_accuracy: 0.9908\n",
      "Epoch 10/30\n",
      "469/469 [==============================] - 98s 209ms/step - loss: 0.0240 - accuracy: 0.9923 - val_loss: 0.0273 - val_accuracy: 0.9919\n",
      "Epoch 11/30\n",
      "469/469 [==============================] - 98s 209ms/step - loss: 0.0231 - accuracy: 0.9923 - val_loss: 0.0256 - val_accuracy: 0.9923\n",
      "Epoch 12/30\n",
      "469/469 [==============================] - 145s 310ms/step - loss: 0.0218 - accuracy: 0.9925 - val_loss: 0.0269 - val_accuracy: 0.9928\n",
      "Epoch 13/30\n",
      "469/469 [==============================] - 150s 320ms/step - loss: 0.0193 - accuracy: 0.9933 - val_loss: 0.0306 - val_accuracy: 0.9919\n",
      "Epoch 14/30\n",
      "469/469 [==============================] - 149s 318ms/step - loss: 0.0166 - accuracy: 0.9946 - val_loss: 0.0325 - val_accuracy: 0.9920\n",
      "Epoch 15/30\n",
      "469/469 [==============================] - 152s 324ms/step - loss: 0.0179 - accuracy: 0.9940 - val_loss: 0.0301 - val_accuracy: 0.9922\n",
      "Epoch 16/30\n",
      "469/469 [==============================] - 152s 325ms/step - loss: 0.0171 - accuracy: 0.9946 - val_loss: 0.0320 - val_accuracy: 0.9919\n",
      "Epoch 17/30\n",
      "469/469 [==============================] - 151s 322ms/step - loss: 0.0155 - accuracy: 0.9948 - val_loss: 0.0305 - val_accuracy: 0.9921\n",
      "Epoch 18/30\n",
      "469/469 [==============================] - 151s 322ms/step - loss: 0.0149 - accuracy: 0.9954 - val_loss: 0.0302 - val_accuracy: 0.9925\n",
      "Epoch 19/30\n",
      "469/469 [==============================] - 119s 254ms/step - loss: 0.0138 - accuracy: 0.9953 - val_loss: 0.0353 - val_accuracy: 0.9918\n",
      "Epoch 20/30\n",
      "469/469 [==============================] - 87s 186ms/step - loss: 0.0134 - accuracy: 0.9954 - val_loss: 0.0336 - val_accuracy: 0.9918\n",
      "Epoch 21/30\n",
      "469/469 [==============================] - 88s 189ms/step - loss: 0.0134 - accuracy: 0.9954 - val_loss: 0.0320 - val_accuracy: 0.9936\n",
      "Epoch 22/30\n",
      "469/469 [==============================] - 88s 187ms/step - loss: 0.0128 - accuracy: 0.9957 - val_loss: 0.0339 - val_accuracy: 0.9928\n",
      "Epoch 23/30\n",
      "469/469 [==============================] - 88s 187ms/step - loss: 0.0117 - accuracy: 0.9959 - val_loss: 0.0310 - val_accuracy: 0.9927\n",
      "Epoch 24/30\n",
      "469/469 [==============================] - 88s 187ms/step - loss: 0.0117 - accuracy: 0.9964 - val_loss: 0.0382 - val_accuracy: 0.9917\n",
      "Epoch 25/30\n",
      "469/469 [==============================] - 91s 193ms/step - loss: 0.0105 - accuracy: 0.9965 - val_loss: 0.0358 - val_accuracy: 0.9924\n",
      "Epoch 26/30\n",
      "469/469 [==============================] - 108s 230ms/step - loss: 0.0100 - accuracy: 0.9965 - val_loss: 0.0354 - val_accuracy: 0.9919\n",
      "Epoch 27/30\n",
      "469/469 [==============================] - 117s 249ms/step - loss: 0.0116 - accuracy: 0.9961 - val_loss: 0.0315 - val_accuracy: 0.9924\n",
      "Epoch 28/30\n",
      "469/469 [==============================] - 103s 220ms/step - loss: 0.0110 - accuracy: 0.9962 - val_loss: 0.0407 - val_accuracy: 0.9922\n",
      "Epoch 29/30\n",
      "469/469 [==============================] - 89s 189ms/step - loss: 0.0101 - accuracy: 0.9968 - val_loss: 0.0345 - val_accuracy: 0.9926\n",
      "Epoch 30/30\n",
      "469/469 [==============================] - 86s 184ms/step - loss: 0.0108 - accuracy: 0.9961 - val_loss: 0.0411 - val_accuracy: 0.9917\n"
     ]
    }
   ],
   "source": [
    "hist = cnn.fit(x_train, y_train, batch_size=128, \n",
    "               epochs=30, validation_data=(x_test, y_test))"
   ]
  },
  {
   "cell_type": "markdown",
   "id": "32e1feb8",
   "metadata": {},
   "source": [
    "## 4. 모델 (정확도) 평가"
   ]
  },
  {
   "cell_type": "code",
   "execution_count": 5,
   "id": "dbfc3d72",
   "metadata": {},
   "outputs": [
    {
     "name": "stdout",
     "output_type": "stream",
     "text": [
      "313/313 [==============================] - 4s 13ms/step - loss: 0.0411 - accuracy: 0.9917\n"
     ]
    },
    {
     "data": {
      "text/plain": [
       "[0.04110472649335861, 0.9916999936103821]"
      ]
     },
     "execution_count": 5,
     "metadata": {},
     "output_type": "execute_result"
    }
   ],
   "source": [
    "cnn.evaluate(x_test, y_test)"
   ]
  },
  {
   "cell_type": "markdown",
   "id": "c783131e",
   "metadata": {},
   "source": [
    "## 5. 정확도 및 손실"
   ]
  },
  {
   "cell_type": "code",
   "execution_count": 6,
   "id": "ef08cc81",
   "metadata": {},
   "outputs": [
    {
     "data": {
      "image/png": "[encoded data removed]",
      "text/plain": [
       "<Figure size 432x288 with 1 Axes>"
      ]
     },
     "metadata": {
      "needs_background": "light"
     },
     "output_type": "display_data"
    }
   ],
   "source": [
    "import matplotlib.pyplot as plt\n",
    "\n",
    "plt.plot(hist.history['accuracy'])\n",
    "plt.plot(hist.history['val_accuracy'])\n",
    "plt.title('Accuracy Trend')\n",
    "plt.ylabel('accuracy')\n",
    "plt.xlabel('epoch')\n",
    "plt.legend(['train','validation'], loc='best')\n",
    "plt.grid()\n",
    "plt.show()"
   ]
  },
  {
   "cell_type": "code",
   "execution_count": 7,
   "id": "d01458b0",
   "metadata": {},
   "outputs": [
    {
     "data": {
      "image/png": "[encoded data removed]",
      "text/plain": [
       "<Figure size 432x288 with 1 Axes>"
      ]
     },
     "metadata": {
      "needs_background": "light"
     },
     "output_type": "display_data"
    }
   ],
   "source": [
    "plt.plot(hist.history['loss'])\n",
    "plt.plot(hist.history['val_loss'])\n",
    "plt.title('Loss Trend')\n",
    "plt.ylabel('loss')\n",
    "plt.xlabel('epoch')\n",
    "plt.legend(['train','validation'], loc='best')\n",
    "plt.grid()\n",
    "plt.show()"
   ]
  }
 ],
 "metadata": {
  "kernelspec": {
   "display_name": "Python 3 (ipykernel)",
   "language": "python",
   "name": "python3"
  },
  "language_info": {
   "codemirror_mode": {
    "name": "ipython",
    "version": 3
   },
   "file_extension": ".py",
   "mimetype": "text/x-python",
   "name": "python",
   "nbconvert_exporter": "python",
   "pygments_lexer": "ipython3",
   "version": "3.9.7"
  }
 },
 "nbformat": 4,
 "nbformat_minor": 5
}
