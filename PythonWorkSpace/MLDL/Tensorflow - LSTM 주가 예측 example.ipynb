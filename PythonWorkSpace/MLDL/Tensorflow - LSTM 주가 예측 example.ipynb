{
 "cells": [
  {
   "cell_type": "markdown",
   "id": "48f349bb",
   "metadata": {},
   "source": [
    "# LSTM 주가 예측 example"
   ]
  },
  {
   "cell_type": "markdown",
   "id": "27724cce",
   "metadata": {},
   "source": [
    "- 1. 데이터 로드 및 분포 확인 \\\n",
    "가. df=pd.read_csv(), df.decrvbe(), df.hist(), plot() 등\n",
    "- 2. 데이터 전처리\\\n",
    "가. outlier/missing value 확인 후 대체(또는 삭제) 처리 \\\n",
    "나. 데이터 정규화(normalization)/표준화(standardization)\\\n",
    "다. 딥러닝 학습을 위한 feature column/label column 정의\n",
    "- 3. 데이터 생성\\\n",
    "가. window size 설정 후 feature/label 시계열 데이터 생성\\\n",
    "나. 학습 데이터 생성, 이 때 입력 데이터는 (batch size, time steps, input dims) 형태의 3차원 텐서로 생성되어야 함.\n",
    "- 4. 순환 신경망 모델 구축 및 학습"
   ]
  },
  {
   "cell_type": "markdown",
   "id": "745de5a3",
   "metadata": {},
   "source": [
    "## 데이터 로드 및 분포 확인"
   ]
  },
  {
   "cell_type": "code",
   "execution_count": 1,
   "id": "9d998823",
   "metadata": {},
   "outputs": [],
   "source": [
    "import tensorflow as tf\n",
    "import numpy as np\n",
    "import pandas as pd\n",
    "import matplotlib.pyplot as plt\n",
    "from tensorflow.keras.models import Sequential\n",
    "from tensorflow.keras.layers import LSTM, Dense, Dropout"
   ]
  },
  {
   "cell_type": "code",
   "execution_count": 2,
   "id": "8db17961",
   "metadata": {},
   "outputs": [
    {
     "data": {
      "text/html": [
       "<div>\n",
       "<style scoped>\n",
       "    .dataframe tbody tr th:only-of-type {\n",
       "        vertical-align: middle;\n",
       "    }\n",
       "\n",
       "    .dataframe tbody tr th {\n",
       "        vertical-align: top;\n",
       "    }\n",
       "\n",
       "    .dataframe thead th {\n",
       "        text-align: right;\n",
       "    }\n",
       "</style>\n",
       "<table border=\"1\" class=\"dataframe\">\n",
       "  <thead>\n",
       "    <tr style=\"text-align: right;\">\n",
       "      <th></th>\n",
       "      <th>Date</th>\n",
       "      <th>Open</th>\n",
       "      <th>High</th>\n",
       "      <th>Low</th>\n",
       "      <th>Close</th>\n",
       "      <th>Adj Close</th>\n",
       "      <th>Volume</th>\n",
       "      <th>3MA</th>\n",
       "      <th>5MA</th>\n",
       "    </tr>\n",
       "  </thead>\n",
       "  <tbody>\n",
       "    <tr>\n",
       "      <th>0</th>\n",
       "      <td>2000-01-04</td>\n",
       "      <td>6000.0</td>\n",
       "      <td>6110.0</td>\n",
       "      <td>5660.0</td>\n",
       "      <td>6110.0</td>\n",
       "      <td>4740.119629</td>\n",
       "      <td>74195000.0</td>\n",
       "      <td>NaN</td>\n",
       "      <td>NaN</td>\n",
       "    </tr>\n",
       "    <tr>\n",
       "      <th>1</th>\n",
       "      <td>2000-01-05</td>\n",
       "      <td>5800.0</td>\n",
       "      <td>6060.0</td>\n",
       "      <td>5520.0</td>\n",
       "      <td>5580.0</td>\n",
       "      <td>4328.947754</td>\n",
       "      <td>74680000.0</td>\n",
       "      <td>NaN</td>\n",
       "      <td>NaN</td>\n",
       "    </tr>\n",
       "    <tr>\n",
       "      <th>2</th>\n",
       "      <td>2000-01-06</td>\n",
       "      <td>5750.0</td>\n",
       "      <td>5780.0</td>\n",
       "      <td>5580.0</td>\n",
       "      <td>5620.0</td>\n",
       "      <td>4359.979492</td>\n",
       "      <td>54390000.0</td>\n",
       "      <td>4476.348958</td>\n",
       "      <td>NaN</td>\n",
       "    </tr>\n",
       "    <tr>\n",
       "      <th>3</th>\n",
       "      <td>2000-01-07</td>\n",
       "      <td>5560.0</td>\n",
       "      <td>5670.0</td>\n",
       "      <td>5360.0</td>\n",
       "      <td>5540.0</td>\n",
       "      <td>4297.916992</td>\n",
       "      <td>40305000.0</td>\n",
       "      <td>4328.948079</td>\n",
       "      <td>NaN</td>\n",
       "    </tr>\n",
       "    <tr>\n",
       "      <th>4</th>\n",
       "      <td>2000-01-10</td>\n",
       "      <td>5600.0</td>\n",
       "      <td>5770.0</td>\n",
       "      <td>5580.0</td>\n",
       "      <td>5770.0</td>\n",
       "      <td>4476.349121</td>\n",
       "      <td>46880000.0</td>\n",
       "      <td>4378.081868</td>\n",
       "      <td>4440.662598</td>\n",
       "    </tr>\n",
       "  </tbody>\n",
       "</table>\n",
       "</div>"
      ],
      "text/plain": [
       "         Date    Open    High     Low   Close    Adj Close      Volume  \\\n",
       "0  2000-01-04  6000.0  6110.0  5660.0  6110.0  4740.119629  74195000.0   \n",
       "1  2000-01-05  5800.0  6060.0  5520.0  5580.0  4328.947754  74680000.0   \n",
       "2  2000-01-06  5750.0  5780.0  5580.0  5620.0  4359.979492  54390000.0   \n",
       "3  2000-01-07  5560.0  5670.0  5360.0  5540.0  4297.916992  40305000.0   \n",
       "4  2000-01-10  5600.0  5770.0  5580.0  5770.0  4476.349121  46880000.0   \n",
       "\n",
       "           3MA          5MA  \n",
       "0          NaN          NaN  \n",
       "1          NaN          NaN  \n",
       "2  4476.348958          NaN  \n",
       "3  4328.948079          NaN  \n",
       "4  4378.081868  4440.662598  "
      ]
     },
     "execution_count": 2,
     "metadata": {},
     "output_type": "execute_result"
    }
   ],
   "source": [
    "raw_df = pd.read_csv('./005930.KS_3MA_5MA.csv') \n",
    "# 삼성전자 주식가격 (00.01.04 ~ 21.06.18)\n",
    "# yahoo finance 로부터 데이터 다운로드\n",
    "# 정확도를 높이기 위해 3일 이동 평균선(3MA), 5일 이동평균선(5MA) 데이터 추가\n",
    "\n",
    "raw_df.head()"
   ]
  },
  {
   "cell_type": "code",
   "execution_count": 3,
   "id": "489a2e1a",
   "metadata": {},
   "outputs": [
    {
     "data": {
      "image/png": "[encoded data removed]",
      "text/plain": [
       "<Figure size 432x288 with 1 Axes>"
      ]
     },
     "metadata": {
      "needs_background": "light"
     },
     "output_type": "display_data"
    }
   ],
   "source": [
    "plt.title('SAMSUNG ELECTRONIC STCOK PRICE')\n",
    "plt.ylabel('price')\n",
    "plt.xlabel('period')\n",
    "plt.grid()\n",
    "\n",
    "plt.plot(raw_df['Adj Close'], label='Adj Close')\n",
    "\n",
    "plt.show()"
   ]
  },
  {
   "cell_type": "markdown",
   "id": "a012d750",
   "metadata": {},
   "source": [
    "## 데이터 전처리 - Outlier 확인\n",
    "- 통계적으로 비정상적으로 크거나 작은 데이터인 outlier(특이값)는 딥러닝 학습을 하기 위해서는\\\n",
    "적절한 값으로 바꾸거나 삭제하는 등의 처리가 반드시 필요함."
   ]
  },
  {
   "cell_type": "code",
   "execution_count": 4,
   "id": "d1e409ee",
   "metadata": {},
   "outputs": [
    {
     "data": {
      "text/html": [
       "<div>\n",
       "<style scoped>\n",
       "    .dataframe tbody tr th:only-of-type {\n",
       "        vertical-align: middle;\n",
       "    }\n",
       "\n",
       "    .dataframe tbody tr th {\n",
       "        vertical-align: top;\n",
       "    }\n",
       "\n",
       "    .dataframe thead th {\n",
       "        text-align: right;\n",
       "    }\n",
       "</style>\n",
       "<table border=\"1\" class=\"dataframe\">\n",
       "  <thead>\n",
       "    <tr style=\"text-align: right;\">\n",
       "      <th></th>\n",
       "      <th>Open</th>\n",
       "      <th>High</th>\n",
       "      <th>Low</th>\n",
       "      <th>Close</th>\n",
       "      <th>Adj Close</th>\n",
       "      <th>Volume</th>\n",
       "      <th>3MA</th>\n",
       "      <th>5MA</th>\n",
       "    </tr>\n",
       "  </thead>\n",
       "  <tbody>\n",
       "    <tr>\n",
       "      <th>count</th>\n",
       "      <td>5389.000000</td>\n",
       "      <td>5389.000000</td>\n",
       "      <td>5389.000000</td>\n",
       "      <td>5389.000000</td>\n",
       "      <td>5389.000000</td>\n",
       "      <td>5.389000e+03</td>\n",
       "      <td>5393.000000</td>\n",
       "      <td>5391.000000</td>\n",
       "    </tr>\n",
       "    <tr>\n",
       "      <th>mean</th>\n",
       "      <td>22801.887178</td>\n",
       "      <td>23043.991464</td>\n",
       "      <td>22559.285582</td>\n",
       "      <td>22801.909445</td>\n",
       "      <td>19920.044863</td>\n",
       "      <td>2.207838e+07</td>\n",
       "      <td>19934.224878</td>\n",
       "      <td>19925.585966</td>\n",
       "    </tr>\n",
       "    <tr>\n",
       "      <th>std</th>\n",
       "      <td>17736.201238</td>\n",
       "      <td>17906.827402</td>\n",
       "      <td>17572.109940</td>\n",
       "      <td>17733.296811</td>\n",
       "      <td>17322.636387</td>\n",
       "      <td>1.564053e+07</td>\n",
       "      <td>17313.297249</td>\n",
       "      <td>17292.697383</td>\n",
       "    </tr>\n",
       "    <tr>\n",
       "      <th>min</th>\n",
       "      <td>2540.000000</td>\n",
       "      <td>2760.000000</td>\n",
       "      <td>2420.000000</td>\n",
       "      <td>2730.000000</td>\n",
       "      <td>2117.926025</td>\n",
       "      <td>0.000000e+00</td>\n",
       "      <td>2164.473877</td>\n",
       "      <td>2179.989746</td>\n",
       "    </tr>\n",
       "    <tr>\n",
       "      <th>25%</th>\n",
       "      <td>9880.000000</td>\n",
       "      <td>9990.000000</td>\n",
       "      <td>9800.000000</td>\n",
       "      <td>9900.000000</td>\n",
       "      <td>7726.937988</td>\n",
       "      <td>1.185265e+07</td>\n",
       "      <td>7726.939453</td>\n",
       "      <td>7709.871631</td>\n",
       "    </tr>\n",
       "    <tr>\n",
       "      <th>50%</th>\n",
       "      <td>15760.000000</td>\n",
       "      <td>15940.000000</td>\n",
       "      <td>15560.000000</td>\n",
       "      <td>15800.000000</td>\n",
       "      <td>12808.596680</td>\n",
       "      <td>1.803935e+07</td>\n",
       "      <td>12802.806970</td>\n",
       "      <td>12809.314840</td>\n",
       "    </tr>\n",
       "    <tr>\n",
       "      <th>75%</th>\n",
       "      <td>29280.000000</td>\n",
       "      <td>29560.000000</td>\n",
       "      <td>29000.000000</td>\n",
       "      <td>29280.000000</td>\n",
       "      <td>24566.556640</td>\n",
       "      <td>2.771475e+07</td>\n",
       "      <td>24558.166020</td>\n",
       "      <td>24555.269140</td>\n",
       "    </tr>\n",
       "    <tr>\n",
       "      <th>max</th>\n",
       "      <td>90300.000000</td>\n",
       "      <td>96800.000000</td>\n",
       "      <td>89500.000000</td>\n",
       "      <td>91000.000000</td>\n",
       "      <td>90597.414060</td>\n",
       "      <td>1.642150e+08</td>\n",
       "      <td>90033.252600</td>\n",
       "      <td>89562.014060</td>\n",
       "    </tr>\n",
       "  </tbody>\n",
       "</table>\n",
       "</div>"
      ],
      "text/plain": [
       "               Open          High           Low         Close     Adj Close  \\\n",
       "count   5389.000000   5389.000000   5389.000000   5389.000000   5389.000000   \n",
       "mean   22801.887178  23043.991464  22559.285582  22801.909445  19920.044863   \n",
       "std    17736.201238  17906.827402  17572.109940  17733.296811  17322.636387   \n",
       "min     2540.000000   2760.000000   2420.000000   2730.000000   2117.926025   \n",
       "25%     9880.000000   9990.000000   9800.000000   9900.000000   7726.937988   \n",
       "50%    15760.000000  15940.000000  15560.000000  15800.000000  12808.596680   \n",
       "75%    29280.000000  29560.000000  29000.000000  29280.000000  24566.556640   \n",
       "max    90300.000000  96800.000000  89500.000000  91000.000000  90597.414060   \n",
       "\n",
       "             Volume           3MA           5MA  \n",
       "count  5.389000e+03   5393.000000   5391.000000  \n",
       "mean   2.207838e+07  19934.224878  19925.585966  \n",
       "std    1.564053e+07  17313.297249  17292.697383  \n",
       "min    0.000000e+00   2164.473877   2179.989746  \n",
       "25%    1.185265e+07   7726.939453   7709.871631  \n",
       "50%    1.803935e+07  12802.806970  12809.314840  \n",
       "75%    2.771475e+07  24558.166020  24555.269140  \n",
       "max    1.642150e+08  90033.252600  89562.014060  "
      ]
     },
     "execution_count": 4,
     "metadata": {},
     "output_type": "execute_result"
    }
   ],
   "source": [
    "raw_df.describe()\n",
    "\n",
    "# 판다스 describe()를 통해서 삼성전자 주가 데이터 통계를 확인해보면, \n",
    "# 거래량을 나타내는 Volume 최소값이 0 임을 알 수 있음\n",
    "# => 주식과 같은 금융데이터에서 Volume(거래량) 값이 없는, \n",
    "# 즉 0으로 나타나는 곳은 missing value(결측값)인 NAN으로 취급하는 것이 일반적임"
   ]
  },
  {
   "cell_type": "code",
   "execution_count": 5,
   "id": "8c722a76",
   "metadata": {},
   "outputs": [
    {
     "name": "stdout",
     "output_type": "stream",
     "text": [
      "Volume <class 'str'>\n"
     ]
    }
   ],
   "source": [
    "for col in raw_df.columns:\n",
    "\n",
    "    if raw_df[col].min() == 0:\n",
    "        col_name = col\n",
    "        print(col_name, type(col_name))"
   ]
  },
  {
   "cell_type": "markdown",
   "id": "82e4034a",
   "metadata": {},
   "source": [
    "## 데이터 전처리 - Missing Value 확인\n",
    "- 결측치(missing value)는 특정 데이터가 누락된 것을 말하며,\\\n",
    "outlier와 마찬가지로 이러한 missing value를 제거하거나 적절한 값으로 대체하는 등의 처리가 필요함"
   ]
  },
  {
   "cell_type": "code",
   "execution_count": 6,
   "id": "c505b9f5",
   "metadata": {},
   "outputs": [
    {
     "data": {
      "text/html": [
       "<div>\n",
       "<style scoped>\n",
       "    .dataframe tbody tr th:only-of-type {\n",
       "        vertical-align: middle;\n",
       "    }\n",
       "\n",
       "    .dataframe tbody tr th {\n",
       "        vertical-align: top;\n",
       "    }\n",
       "\n",
       "    .dataframe thead th {\n",
       "        text-align: right;\n",
       "    }\n",
       "</style>\n",
       "<table border=\"1\" class=\"dataframe\">\n",
       "  <thead>\n",
       "    <tr style=\"text-align: right;\">\n",
       "      <th></th>\n",
       "      <th>Date</th>\n",
       "      <th>Open</th>\n",
       "      <th>High</th>\n",
       "      <th>Low</th>\n",
       "      <th>Close</th>\n",
       "      <th>Adj Close</th>\n",
       "      <th>Volume</th>\n",
       "      <th>3MA</th>\n",
       "      <th>5MA</th>\n",
       "    </tr>\n",
       "  </thead>\n",
       "  <tbody>\n",
       "    <tr>\n",
       "      <th>23</th>\n",
       "      <td>2000-02-04</td>\n",
       "      <td>5130.0</td>\n",
       "      <td>5130.0</td>\n",
       "      <td>5130.0</td>\n",
       "      <td>5130.0</td>\n",
       "      <td>3979.839355</td>\n",
       "      <td>0.0</td>\n",
       "      <td>4010.871419</td>\n",
       "      <td>4097.760644</td>\n",
       "    </tr>\n",
       "    <tr>\n",
       "      <th>41</th>\n",
       "      <td>2000-03-01</td>\n",
       "      <td>5120.0</td>\n",
       "      <td>5120.0</td>\n",
       "      <td>5120.0</td>\n",
       "      <td>5120.0</td>\n",
       "      <td>3972.081543</td>\n",
       "      <td>0.0</td>\n",
       "      <td>3889.329834</td>\n",
       "      <td>3914.672510</td>\n",
       "    </tr>\n",
       "    <tr>\n",
       "      <th>66</th>\n",
       "      <td>2000-04-05</td>\n",
       "      <td>6800.0</td>\n",
       "      <td>6800.0</td>\n",
       "      <td>6800.0</td>\n",
       "      <td>6800.0</td>\n",
       "      <td>5275.420410</td>\n",
       "      <td>0.0</td>\n",
       "      <td>5353.000163</td>\n",
       "      <td>5345.242773</td>\n",
       "    </tr>\n",
       "    <tr>\n",
       "      <th>72</th>\n",
       "      <td>2000-04-13</td>\n",
       "      <td>6910.0</td>\n",
       "      <td>6910.0</td>\n",
       "      <td>6910.0</td>\n",
       "      <td>6910.0</td>\n",
       "      <td>5360.757324</td>\n",
       "      <td>0.0</td>\n",
       "      <td>5409.891439</td>\n",
       "      <td>5495.746680</td>\n",
       "    </tr>\n",
       "    <tr>\n",
       "      <th>84</th>\n",
       "      <td>2000-05-01</td>\n",
       "      <td>6000.0</td>\n",
       "      <td>6000.0</td>\n",
       "      <td>6000.0</td>\n",
       "      <td>6000.0</td>\n",
       "      <td>4654.781250</td>\n",
       "      <td>0.0</td>\n",
       "      <td>4499.622070</td>\n",
       "      <td>4443.765039</td>\n",
       "    </tr>\n",
       "    <tr>\n",
       "      <th>...</th>\n",
       "      <td>...</td>\n",
       "      <td>...</td>\n",
       "      <td>...</td>\n",
       "      <td>...</td>\n",
       "      <td>...</td>\n",
       "      <td>...</td>\n",
       "      <td>...</td>\n",
       "      <td>...</td>\n",
       "      <td>...</td>\n",
       "    </tr>\n",
       "    <tr>\n",
       "      <th>4623</th>\n",
       "      <td>2018-04-30</td>\n",
       "      <td>53000.0</td>\n",
       "      <td>53000.0</td>\n",
       "      <td>53000.0</td>\n",
       "      <td>53000.0</td>\n",
       "      <td>47819.117190</td>\n",
       "      <td>0.0</td>\n",
       "      <td>47560.473960</td>\n",
       "      <td>46736.421880</td>\n",
       "    </tr>\n",
       "    <tr>\n",
       "      <th>4624</th>\n",
       "      <td>2018-05-02</td>\n",
       "      <td>53000.0</td>\n",
       "      <td>53000.0</td>\n",
       "      <td>53000.0</td>\n",
       "      <td>53000.0</td>\n",
       "      <td>47819.117190</td>\n",
       "      <td>0.0</td>\n",
       "      <td>47819.117190</td>\n",
       "      <td>47194.763280</td>\n",
       "    </tr>\n",
       "    <tr>\n",
       "      <th>4625</th>\n",
       "      <td>2018-05-03</td>\n",
       "      <td>53000.0</td>\n",
       "      <td>53000.0</td>\n",
       "      <td>53000.0</td>\n",
       "      <td>53000.0</td>\n",
       "      <td>47819.117190</td>\n",
       "      <td>0.0</td>\n",
       "      <td>47819.117190</td>\n",
       "      <td>47663.931250</td>\n",
       "    </tr>\n",
       "    <tr>\n",
       "      <th>5077</th>\n",
       "      <td>2020-03-09</td>\n",
       "      <td>56500.0</td>\n",
       "      <td>56500.0</td>\n",
       "      <td>56500.0</td>\n",
       "      <td>56500.0</td>\n",
       "      <td>53774.468750</td>\n",
       "      <td>0.0</td>\n",
       "      <td>54186.897140</td>\n",
       "      <td>53983.855470</td>\n",
       "    </tr>\n",
       "    <tr>\n",
       "      <th>5080</th>\n",
       "      <td>2020-03-12</td>\n",
       "      <td>52100.0</td>\n",
       "      <td>52100.0</td>\n",
       "      <td>52100.0</td>\n",
       "      <td>52100.0</td>\n",
       "      <td>49586.722660</td>\n",
       "      <td>0.0</td>\n",
       "      <td>50379.856770</td>\n",
       "      <td>51737.701560</td>\n",
       "    </tr>\n",
       "  </tbody>\n",
       "</table>\n",
       "<p>116 rows × 9 columns</p>\n",
       "</div>"
      ],
      "text/plain": [
       "            Date     Open     High      Low    Close     Adj Close  Volume  \\\n",
       "23    2000-02-04   5130.0   5130.0   5130.0   5130.0   3979.839355     0.0   \n",
       "41    2000-03-01   5120.0   5120.0   5120.0   5120.0   3972.081543     0.0   \n",
       "66    2000-04-05   6800.0   6800.0   6800.0   6800.0   5275.420410     0.0   \n",
       "72    2000-04-13   6910.0   6910.0   6910.0   6910.0   5360.757324     0.0   \n",
       "84    2000-05-01   6000.0   6000.0   6000.0   6000.0   4654.781250     0.0   \n",
       "...          ...      ...      ...      ...      ...           ...     ...   \n",
       "4623  2018-04-30  53000.0  53000.0  53000.0  53000.0  47819.117190     0.0   \n",
       "4624  2018-05-02  53000.0  53000.0  53000.0  53000.0  47819.117190     0.0   \n",
       "4625  2018-05-03  53000.0  53000.0  53000.0  53000.0  47819.117190     0.0   \n",
       "5077  2020-03-09  56500.0  56500.0  56500.0  56500.0  53774.468750     0.0   \n",
       "5080  2020-03-12  52100.0  52100.0  52100.0  52100.0  49586.722660     0.0   \n",
       "\n",
       "               3MA           5MA  \n",
       "23     4010.871419   4097.760644  \n",
       "41     3889.329834   3914.672510  \n",
       "66     5353.000163   5345.242773  \n",
       "72     5409.891439   5495.746680  \n",
       "84     4499.622070   4443.765039  \n",
       "...            ...           ...  \n",
       "4623  47560.473960  46736.421880  \n",
       "4624  47819.117190  47194.763280  \n",
       "4625  47819.117190  47663.931250  \n",
       "5077  54186.897140  53983.855470  \n",
       "5080  50379.856770  51737.701560  \n",
       "\n",
       "[116 rows x 9 columns]"
      ]
     },
     "execution_count": 6,
     "metadata": {},
     "output_type": "execute_result"
    }
   ],
   "source": [
    "raw_df.loc[raw_df['Volume']==0]"
   ]
  },
  {
   "cell_type": "code",
   "execution_count": 7,
   "id": "5fa3c7d6",
   "metadata": {},
   "outputs": [
    {
     "name": "stdout",
     "output_type": "stream",
     "text": [
      "Date: 0\n",
      "Open: 0\n",
      "High: 0\n",
      "Low: 0\n",
      "Close: 0\n",
      "Adj Close: 0\n",
      "Volume: 116\n",
      "3MA: 0\n",
      "5MA: 0\n"
     ]
    }
   ],
   "source": [
    "for col in raw_df.columns:\n",
    "\n",
    "    missing_rows = raw_df.loc[raw_df[col]==0].shape[0]\n",
    "    print(col + ': ' + str(missing_rows))"
   ]
  },
  {
   "cell_type": "markdown",
   "id": "9171c68d",
   "metadata": {},
   "source": [
    "## 데이터 전처리 - Outlier 및 Missing Value 처리\n",
    "### - Volume 값 0을 NAN 으로 모두 대체"
   ]
  },
  {
   "cell_type": "code",
   "execution_count": 8,
   "id": "42f22fbf",
   "metadata": {},
   "outputs": [
    {
     "name": "stdout",
     "output_type": "stream",
     "text": [
      "Date: 0\n",
      "Open: 0\n",
      "High: 0\n",
      "Low: 0\n",
      "Close: 0\n",
      "Adj Close: 0\n",
      "Volume: 0\n",
      "3MA: 0\n",
      "5MA: 0\n"
     ]
    }
   ],
   "source": [
    "# 먼저 0 을 NaN 으로 바꾼후, Missing Data 처리\n",
    "\n",
    "raw_df['Volume'] = raw_df['Volume'].replace(0, np.nan)\n",
    "\n",
    "# 각 column에 0 몇개인지 확인\n",
    "\n",
    "for col in raw_df.columns:\n",
    "\n",
    "    missing_rows = raw_df.loc[raw_df[col]==0].shape[0]\n",
    "    print(col + ': ' + str(missing_rows))"
   ]
  },
  {
   "cell_type": "markdown",
   "id": "5b876617",
   "metadata": {},
   "source": [
    "### - 모든 Missing Value 삭제"
   ]
  },
  {
   "cell_type": "code",
   "execution_count": 9,
   "id": "d5d29732",
   "metadata": {},
   "outputs": [
    {
     "data": {
      "text/plain": [
       "Date           0\n",
       "Open           6\n",
       "High           6\n",
       "Low            6\n",
       "Close          6\n",
       "Adj Close      6\n",
       "Volume       122\n",
       "3MA            2\n",
       "5MA            4\n",
       "dtype: int64"
      ]
     },
     "execution_count": 9,
     "metadata": {},
     "output_type": "execute_result"
    }
   ],
   "source": [
    "raw_df.isnull().sum()"
   ]
  },
  {
   "cell_type": "code",
   "execution_count": 10,
   "id": "f033a7a8",
   "metadata": {},
   "outputs": [
    {
     "data": {
      "text/plain": [
       "Date         False\n",
       "Open          True\n",
       "High          True\n",
       "Low           True\n",
       "Close         True\n",
       "Adj Close     True\n",
       "Volume        True\n",
       "3MA           True\n",
       "5MA           True\n",
       "dtype: bool"
      ]
     },
     "execution_count": 10,
     "metadata": {},
     "output_type": "execute_result"
    }
   ],
   "source": [
    "raw_df.isnull().any()"
   ]
  },
  {
   "cell_type": "code",
   "execution_count": 11,
   "id": "597a9406",
   "metadata": {},
   "outputs": [
    {
     "data": {
      "text/html": [
       "<div>\n",
       "<style scoped>\n",
       "    .dataframe tbody tr th:only-of-type {\n",
       "        vertical-align: middle;\n",
       "    }\n",
       "\n",
       "    .dataframe tbody tr th {\n",
       "        vertical-align: top;\n",
       "    }\n",
       "\n",
       "    .dataframe thead th {\n",
       "        text-align: right;\n",
       "    }\n",
       "</style>\n",
       "<table border=\"1\" class=\"dataframe\">\n",
       "  <thead>\n",
       "    <tr style=\"text-align: right;\">\n",
       "      <th></th>\n",
       "      <th>Date</th>\n",
       "      <th>Open</th>\n",
       "      <th>High</th>\n",
       "      <th>Low</th>\n",
       "      <th>Close</th>\n",
       "      <th>Adj Close</th>\n",
       "      <th>Volume</th>\n",
       "      <th>3MA</th>\n",
       "      <th>5MA</th>\n",
       "    </tr>\n",
       "  </thead>\n",
       "  <tbody>\n",
       "    <tr>\n",
       "      <th>1304</th>\n",
       "      <td>2005-01-03</td>\n",
       "      <td>NaN</td>\n",
       "      <td>NaN</td>\n",
       "      <td>NaN</td>\n",
       "      <td>NaN</td>\n",
       "      <td>NaN</td>\n",
       "      <td>NaN</td>\n",
       "      <td>6989.931152</td>\n",
       "      <td>6910.412353</td>\n",
       "    </tr>\n",
       "    <tr>\n",
       "      <th>4513</th>\n",
       "      <td>2017-11-16</td>\n",
       "      <td>NaN</td>\n",
       "      <td>NaN</td>\n",
       "      <td>NaN</td>\n",
       "      <td>NaN</td>\n",
       "      <td>NaN</td>\n",
       "      <td>NaN</td>\n",
       "      <td>49382.673830</td>\n",
       "      <td>49719.997070</td>\n",
       "    </tr>\n",
       "    <tr>\n",
       "      <th>4518</th>\n",
       "      <td>2017-11-23</td>\n",
       "      <td>NaN</td>\n",
       "      <td>NaN</td>\n",
       "      <td>NaN</td>\n",
       "      <td>NaN</td>\n",
       "      <td>NaN</td>\n",
       "      <td>NaN</td>\n",
       "      <td>49373.792970</td>\n",
       "      <td>49324.969730</td>\n",
       "    </tr>\n",
       "    <tr>\n",
       "      <th>4542</th>\n",
       "      <td>2018-01-02</td>\n",
       "      <td>NaN</td>\n",
       "      <td>NaN</td>\n",
       "      <td>NaN</td>\n",
       "      <td>NaN</td>\n",
       "      <td>NaN</td>\n",
       "      <td>NaN</td>\n",
       "      <td>44927.763670</td>\n",
       "      <td>44190.302730</td>\n",
       "    </tr>\n",
       "    <tr>\n",
       "      <th>4755</th>\n",
       "      <td>2018-11-15</td>\n",
       "      <td>NaN</td>\n",
       "      <td>NaN</td>\n",
       "      <td>NaN</td>\n",
       "      <td>NaN</td>\n",
       "      <td>NaN</td>\n",
       "      <td>NaN</td>\n",
       "      <td>40569.835940</td>\n",
       "      <td>40775.886720</td>\n",
       "    </tr>\n",
       "    <tr>\n",
       "      <th>5000</th>\n",
       "      <td>2019-11-14</td>\n",
       "      <td>NaN</td>\n",
       "      <td>NaN</td>\n",
       "      <td>NaN</td>\n",
       "      <td>NaN</td>\n",
       "      <td>NaN</td>\n",
       "      <td>NaN</td>\n",
       "      <td>49695.419920</td>\n",
       "      <td>49364.432620</td>\n",
       "    </tr>\n",
       "  </tbody>\n",
       "</table>\n",
       "</div>"
      ],
      "text/plain": [
       "            Date  Open  High  Low  Close  Adj Close  Volume           3MA  \\\n",
       "1304  2005-01-03   NaN   NaN  NaN    NaN        NaN     NaN   6989.931152   \n",
       "4513  2017-11-16   NaN   NaN  NaN    NaN        NaN     NaN  49382.673830   \n",
       "4518  2017-11-23   NaN   NaN  NaN    NaN        NaN     NaN  49373.792970   \n",
       "4542  2018-01-02   NaN   NaN  NaN    NaN        NaN     NaN  44927.763670   \n",
       "4755  2018-11-15   NaN   NaN  NaN    NaN        NaN     NaN  40569.835940   \n",
       "5000  2019-11-14   NaN   NaN  NaN    NaN        NaN     NaN  49695.419920   \n",
       "\n",
       "               5MA  \n",
       "1304   6910.412353  \n",
       "4513  49719.997070  \n",
       "4518  49324.969730  \n",
       "4542  44190.302730  \n",
       "4755  40775.886720  \n",
       "5000  49364.432620  "
      ]
     },
     "execution_count": 11,
     "metadata": {},
     "output_type": "execute_result"
    }
   ],
   "source": [
    "raw_df.loc[raw_df['Open'].isna()]"
   ]
  },
  {
   "cell_type": "code",
   "execution_count": 12,
   "id": "1b4f570c",
   "metadata": {},
   "outputs": [
    {
     "data": {
      "text/plain": [
       "Date         0\n",
       "Open         0\n",
       "High         0\n",
       "Low          0\n",
       "Close        0\n",
       "Adj Close    0\n",
       "Volume       0\n",
       "3MA          0\n",
       "5MA          0\n",
       "dtype: int64"
      ]
     },
     "execution_count": 12,
     "metadata": {},
     "output_type": "execute_result"
    }
   ],
   "source": [
    "raw_df = raw_df.dropna()\n",
    "\n",
    "raw_df.isnull().sum()"
   ]
  },
  {
   "cell_type": "markdown",
   "id": "d1cd4319",
   "metadata": {},
   "source": [
    "## 데이터 전처리 - 정규화(Normalization)\n",
    "- 딥러닝 하습이 잘되기 위해서는 정규화 작업이 필요함.\n",
    "- 즉, 날짜를 나타내는 Date 항목을 제외한 숫자로 표현되는 모든 column에 대해서 0~1 값으로 정규화 수행함"
   ]
  },
  {
   "cell_type": "code",
   "execution_count": 13,
   "id": "2451f471",
   "metadata": {},
   "outputs": [
    {
     "name": "stdout",
     "output_type": "stream",
     "text": [
      "          Open      High       Low     Close  Adj Close       3MA       5MA  \\\n",
      "0     0.034868  0.032008  0.036288  0.034440   0.026655  0.025192  0.025698   \n",
      "1     0.037375  0.035517  0.038470  0.034440   0.026655  0.025634  0.025094   \n",
      "2     0.034982  0.031689  0.036518  0.033873   0.026217  0.026163  0.025343   \n",
      "3     0.034868  0.031689  0.036059  0.033760   0.026129  0.025987  0.025503   \n",
      "4     0.036235  0.033177  0.037437  0.035120   0.027181  0.026163  0.026018   \n",
      "...        ...       ...       ...       ...        ...       ...       ...   \n",
      "5264  0.891750  0.830923  0.896647  0.881047   0.885878  0.895299  0.903144   \n",
      "5265  0.892890  0.834113  0.897795  0.885578   0.890399  0.894920  0.900854   \n",
      "5266  0.899727  0.841557  0.903537  0.895774   0.900571  0.897955  0.902457   \n",
      "5267  0.895169  0.835177  0.898944  0.885578   0.890399  0.899472  0.902228   \n",
      "5268  0.895169  0.833050  0.896647  0.881047   0.885878  0.897955  0.901083   \n",
      "\n",
      "        Volume  \n",
      "0     0.285359  \n",
      "1     0.363715  \n",
      "2     0.177799  \n",
      "3     0.250704  \n",
      "4     0.300555  \n",
      "...        ...  \n",
      "5264  0.064088  \n",
      "5265  0.061199  \n",
      "5266  0.091190  \n",
      "5267  0.085145  \n",
      "5268  0.090683  \n",
      "\n",
      "[5269 rows x 8 columns]\n"
     ]
    }
   ],
   "source": [
    "from sklearn.preprocessing import MinMaxScaler\n",
    "\n",
    "scaler = MinMaxScaler()\n",
    "\n",
    "scale_cols = ['Open', 'High', 'Low', 'Close', 'Adj Close','3MA', '5MA', 'Volume']\n",
    "# 정규화 대상 column 영역\n",
    "\n",
    "scaled_df = scaler.fit_transform(raw_df[scale_cols]) # 정규화 수행\n",
    "\n",
    "scaled_df = pd.DataFrame(scaled_df, columns=scale_cols) # 정규화된 새로운 DataFrame생성\n",
    "\n",
    "print(scaled_df)"
   ]
  },
  {
   "cell_type": "code",
   "execution_count": 14,
   "id": "9c6bc5c5",
   "metadata": {},
   "outputs": [],
   "source": [
    "def make_sequene_dataset(feature, label, window_size):\n",
    "\n",
    "    feature_list = []      # 생성될 feature list\n",
    "    label_list = []        # 생성될 label list\n",
    "\n",
    "    for i in range(len(feature)-window_size):\n",
    "\n",
    "        feature_list.append(feature[i:i+window_size])\n",
    "        label_list.append(label[i+window_size])\n",
    "\n",
    "    return np.array(feature_list), np.array(label_list)"
   ]
  },
  {
   "cell_type": "markdown",
   "id": "558f3ecf",
   "metadata": {},
   "source": [
    "## 데이터 전처리 - feature column / label column 정의\n",
    "- 딥러닝 학습을 위한 입력데이터 feature column, 정답데이터 label column 정의 후\\\n",
    "numpy로 변환하여 데이터 전처리 과정을 완료함"
   ]
  },
  {
   "cell_type": "code",
   "execution_count": 15,
   "id": "488e503a",
   "metadata": {},
   "outputs": [],
   "source": [
    "feature_cols = [ '3MA', '5MA', 'Adj Close' ] # feature 정의 (입력데이터)\n",
    "label_cols = [ 'Adj Close' ] # label 정의 (정답데이터)\n",
    "\n",
    "feature_df = pd.DataFrame(scaled_df, columns=feature_cols)\n",
    "label_df = pd.DataFrame(scaled_df, columns=label_cols)"
   ]
  },
  {
   "cell_type": "code",
   "execution_count": 16,
   "id": "fee68b8c",
   "metadata": {},
   "outputs": [
    {
     "name": "stdout",
     "output_type": "stream",
     "text": [
      "(5269, 3) (5269, 1)\n"
     ]
    }
   ],
   "source": [
    "feature_np = feature_df.to_numpy() # 딥러닝 학습을 위해 DataFrame -> numpy 변환\n",
    "label_np = label_df.to_numpy()\n",
    "\n",
    "print(feature_np.shape, label_np.shape)"
   ]
  },
  {
   "cell_type": "markdown",
   "id": "2251757d",
   "metadata": {},
   "source": [
    "## 데이터 생성 - 입력데이터 feature / 정답데이터 label\n",
    "### 1. 학습 데이터 X,Y 생성"
   ]
  },
  {
   "cell_type": "code",
   "execution_count": 17,
   "id": "963cf794",
   "metadata": {},
   "outputs": [
    {
     "name": "stdout",
     "output_type": "stream",
     "text": [
      "(5229, 40, 3) (5229, 1)\n"
     ]
    }
   ],
   "source": [
    "window_size = 40\n",
    "\n",
    "# 입력 파라미터 feature, label => numpy type\n",
    "X, Y = make_sequene_dataset(feature_np, label_np, window_size)\n",
    "\n",
    "print(X.shape, Y.shape)"
   ]
  },
  {
   "cell_type": "markdown",
   "id": "9f1c6602",
   "metadata": {},
   "source": [
    "## 데이터 분리 및 모델구축\n",
    "### 2. 트레이닝 데이터 / 테스트 데이터 분리"
   ]
  },
  {
   "cell_type": "code",
   "execution_count": 18,
   "id": "27a3d4ed",
   "metadata": {},
   "outputs": [
    {
     "name": "stdout",
     "output_type": "stream",
     "text": [
      "(5029, 40, 3) (5029, 1)\n",
      "(200, 40, 3) (200, 1)\n"
     ]
    }
   ],
   "source": [
    "split = -200\n",
    "\n",
    "x_train = X[0:split]\n",
    "y_train = Y[0:split]\n",
    "\n",
    "x_test = X[split:]\n",
    "y_test = Y[split:]\n",
    "\n",
    "print(x_train.shape, y_train.shape)\n",
    "print(x_test.shape, y_test.shape)"
   ]
  },
  {
   "cell_type": "markdown",
   "id": "982204ea",
   "metadata": {},
   "source": [
    "### 3. LSTM 모델 구축"
   ]
  },
  {
   "cell_type": "code",
   "execution_count": 19,
   "id": "8b45f38b",
   "metadata": {},
   "outputs": [],
   "source": [
    "model = Sequential()\n",
    "\n",
    "model.add(LSTM(128, activation='tanh', input_shape=x_train[0].shape))\n",
    "# LSTM 계층에 tanh를 활성화 함수로 가지는 노드 수 128개, input_shape=(40,3)\n",
    "\n",
    "model.add(Dense(1, activation='linear'))"
   ]
  },
  {
   "cell_type": "markdown",
   "id": "d1d4abd5",
   "metadata": {},
   "source": [
    "## 모델 컴파일 및 학습\n",
    "### 4. 모델 컴파일 및 학습"
   ]
  },
  {
   "cell_type": "code",
   "execution_count": 20,
   "id": "77e1b195",
   "metadata": {},
   "outputs": [
    {
     "name": "stdout",
     "output_type": "stream",
     "text": [
      "Model: \"sequential\"\n",
      "_________________________________________________________________\n",
      " Layer (type)                Output Shape              Param #   \n",
      "=================================================================\n",
      " lstm (LSTM)                 (None, 128)               67584     \n",
      "                                                                 \n",
      " dense (Dense)               (None, 1)                 129       \n",
      "                                                                 \n",
      "=================================================================\n",
      "Total params: 67,713\n",
      "Trainable params: 67,713\n",
      "Non-trainable params: 0\n",
      "_________________________________________________________________\n"
     ]
    }
   ],
   "source": [
    "model.compile(loss='mse', optimizer='adam', metrics=['mae'])\n",
    "\n",
    "model.summary()"
   ]
  },
  {
   "cell_type": "code",
   "execution_count": 22,
   "id": "71401f63",
   "metadata": {},
   "outputs": [
    {
     "name": "stdout",
     "output_type": "stream",
     "text": [
      "Epoch 1/100\n",
      "315/315 [==============================] - 7s 17ms/step - loss: 8.6154e-04 - mae: 0.0110 - val_loss: 0.0010 - val_mae: 0.0217\n",
      "Epoch 2/100\n",
      "315/315 [==============================] - 5s 15ms/step - loss: 8.4106e-05 - mae: 0.0059 - val_loss: 0.0012 - val_mae: 0.0266\n",
      "Epoch 3/100\n",
      "315/315 [==============================] - 5s 16ms/step - loss: 8.3592e-05 - mae: 0.0060 - val_loss: 0.0021 - val_mae: 0.0394\n",
      "Epoch 4/100\n",
      "315/315 [==============================] - 5s 17ms/step - loss: 7.6828e-05 - mae: 0.0057 - val_loss: 5.7042e-04 - val_mae: 0.0164\n",
      "Epoch 5/100\n",
      "315/315 [==============================] - 5s 16ms/step - loss: 7.2045e-05 - mae: 0.0057 - val_loss: 5.4157e-04 - val_mae: 0.0161\n",
      "Epoch 6/100\n",
      "315/315 [==============================] - 6s 19ms/step - loss: 6.9686e-05 - mae: 0.0055 - val_loss: 7.1334e-04 - val_mae: 0.0202\n",
      "Epoch 7/100\n",
      "315/315 [==============================] - 5s 17ms/step - loss: 6.0476e-05 - mae: 0.0052 - val_loss: 4.1018e-04 - val_mae: 0.0143\n",
      "Epoch 8/100\n",
      "315/315 [==============================] - 5s 17ms/step - loss: 6.4517e-05 - mae: 0.0054 - val_loss: 4.5047e-04 - val_mae: 0.0153\n",
      "Epoch 9/100\n",
      "315/315 [==============================] - 5s 17ms/step - loss: 5.3614e-05 - mae: 0.0049 - val_loss: 5.5176e-04 - val_mae: 0.0199\n",
      "Epoch 10/100\n",
      "315/315 [==============================] - 5s 17ms/step - loss: 4.7892e-05 - mae: 0.0047 - val_loss: 2.7917e-04 - val_mae: 0.0118\n",
      "Epoch 11/100\n",
      "315/315 [==============================] - 5s 15ms/step - loss: 5.0832e-05 - mae: 0.0048 - val_loss: 2.9496e-04 - val_mae: 0.0120\n",
      "Epoch 12/100\n",
      "315/315 [==============================] - 5s 17ms/step - loss: 3.8314e-05 - mae: 0.0041 - val_loss: 3.6383e-04 - val_mae: 0.0140\n",
      "Epoch 13/100\n",
      "315/315 [==============================] - 5s 17ms/step - loss: 4.1415e-05 - mae: 0.0044 - val_loss: 2.4197e-04 - val_mae: 0.0119\n",
      "Epoch 14/100\n",
      "315/315 [==============================] - 5s 17ms/step - loss: 3.8131e-05 - mae: 0.0041 - val_loss: 2.1558e-04 - val_mae: 0.0104\n",
      "Epoch 15/100\n",
      "315/315 [==============================] - 6s 18ms/step - loss: 3.4294e-05 - mae: 0.0040 - val_loss: 3.8007e-04 - val_mae: 0.0149\n",
      "Epoch 16/100\n",
      "315/315 [==============================] - 6s 18ms/step - loss: 3.7504e-05 - mae: 0.0041 - val_loss: 2.2829e-04 - val_mae: 0.0107\n",
      "Epoch 17/100\n",
      "315/315 [==============================] - 6s 18ms/step - loss: 2.9535e-05 - mae: 0.0037 - val_loss: 2.4662e-04 - val_mae: 0.0112\n",
      "Epoch 18/100\n",
      "315/315 [==============================] - 6s 18ms/step - loss: 3.1822e-05 - mae: 0.0038 - val_loss: 4.1905e-04 - val_mae: 0.0161\n",
      "Epoch 19/100\n",
      "315/315 [==============================] - 6s 18ms/step - loss: 2.8437e-05 - mae: 0.0035 - val_loss: 2.1549e-04 - val_mae: 0.0103\n",
      "Epoch 20/100\n",
      "315/315 [==============================] - 6s 18ms/step - loss: 2.8617e-05 - mae: 0.0036 - val_loss: 2.3436e-04 - val_mae: 0.0109\n",
      "Epoch 21/100\n",
      "315/315 [==============================] - 6s 18ms/step - loss: 2.7309e-05 - mae: 0.0035 - val_loss: 2.7550e-04 - val_mae: 0.0123\n",
      "Epoch 22/100\n",
      "315/315 [==============================] - 6s 18ms/step - loss: 2.8252e-05 - mae: 0.0036 - val_loss: 1.8701e-04 - val_mae: 0.0099\n",
      "Epoch 23/100\n",
      "315/315 [==============================] - 6s 18ms/step - loss: 2.4711e-05 - mae: 0.0033 - val_loss: 2.2513e-04 - val_mae: 0.0108\n",
      "Epoch 24/100\n",
      "315/315 [==============================] - 6s 18ms/step - loss: 2.7740e-05 - mae: 0.0035 - val_loss: 1.9330e-04 - val_mae: 0.0107\n",
      "Epoch 25/100\n",
      "315/315 [==============================] - 6s 18ms/step - loss: 2.7799e-05 - mae: 0.0035 - val_loss: 1.8887e-04 - val_mae: 0.0098\n",
      "Epoch 26/100\n",
      "315/315 [==============================] - 6s 18ms/step - loss: 2.4648e-05 - mae: 0.0033 - val_loss: 2.0133e-04 - val_mae: 0.0102\n",
      "Epoch 27/100\n",
      "315/315 [==============================] - 6s 18ms/step - loss: 2.5387e-05 - mae: 0.0033 - val_loss: 3.0773e-04 - val_mae: 0.0134\n"
     ]
    },
    {
     "data": {
      "text/plain": [
       "<keras.callbacks.History at 0x692a2f10a0>"
      ]
     },
     "execution_count": 22,
     "metadata": {},
     "output_type": "execute_result"
    }
   ],
   "source": [
    "from tensorflow.keras.callbacks import EarlyStopping\n",
    "\n",
    "early_stop = EarlyStopping(monitor='val_loss', patience=5)\n",
    "\n",
    "model.fit(x_train, y_train, \n",
    "          validation_data=(x_test, y_test),\n",
    "          epochs=100, batch_size=16,\n",
    "          callbacks=[early_stop])\n",
    "\n",
    "# 손실함수 값이 줄어들지 않으면 earlystopping을 통해 조기종료"
   ]
  },
  {
   "cell_type": "code",
   "execution_count": 23,
   "id": "1eecfca9",
   "metadata": {},
   "outputs": [
    {
     "data": {
      "image/png": "[encoded data removed]",
      "text/plain": [
       "<Figure size 864x432 with 1 Axes>"
      ]
     },
     "metadata": {
      "needs_background": "light"
     },
     "output_type": "display_data"
    }
   ],
   "source": [
    "pred = model.predict(x_test)\n",
    "\n",
    "plt.figure(figsize=(12, 6))\n",
    "plt.title('3MA + 5MA + Adj Close, window_size=40')\n",
    "plt.ylabel('adj close')\n",
    "plt.xlabel('period')\n",
    "plt.plot(y_test, label='actual')\n",
    "plt.plot(pred, label='prediction')\n",
    "plt.grid()\n",
    "plt.legend(loc='best')\n",
    "\n",
    "plt.show()"
   ]
  },
  {
   "cell_type": "code",
   "execution_count": 24,
   "id": "b1bc2961",
   "metadata": {},
   "outputs": [
    {
     "name": "stdout",
     "output_type": "stream",
     "text": [
      "0.01626921290219702\n"
     ]
    }
   ],
   "source": [
    "print( np.sum(abs(y_test-pred)/y_test) / len(x_test) )"
   ]
  }
 ],
 "metadata": {
  "kernelspec": {
   "display_name": "Python 3 (ipykernel)",
   "language": "python",
   "name": "python3"
  },
  "language_info": {
   "codemirror_mode": {
    "name": "ipython",
    "version": 3
   },
   "file_extension": ".py",
   "mimetype": "text/x-python",
   "name": "python",
   "nbconvert_exporter": "python",
   "pygments_lexer": "ipython3",
   "version": "3.9.7"
  }
 },
 "nbformat": 4,
 "nbformat_minor": 5
}
