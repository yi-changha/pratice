{
 "cells": [
  {
   "cell_type": "markdown",
   "id": "ba9d5d9d",
   "metadata": {},
   "source": [
    "# 스타크래프트 시뮬레이션"
   ]
  },
  {
   "cell_type": "markdown",
   "id": "aff60ab9",
   "metadata": {},
   "source": [
    "### 일반 유닛"
   ]
  },
  {
   "cell_type": "code",
   "execution_count": 1,
   "id": "f1ace5a9",
   "metadata": {},
   "outputs": [],
   "source": [
    "class Unit :\n",
    "    def __init__(self,name,hp,speed):\n",
    "        self.name = name\n",
    "        self.hp = hp\n",
    "        self.speed = speed\n",
    "        print(\"{0} 유닛이 생성되었습니다.\".format(name))\n",
    "        \n",
    "    def move(self, location):\n",
    "        print(\"[지상 유닛 이동]\")\n",
    "        print(\"{0} : {1} 방향으로 이동합니다. [속도 {2}]\".format(self.name, location, self. speed))\n",
    "        \n",
    "    def damaged(self, damage):\n",
    "        print(\"{0} : {1} 데미지를 입었습니다.\".format(self.name, damage))\n",
    "        self.hp -= damage\n",
    "        print(\"{0} : 현재 체력은 {1} 입니다\".format(self.name, self.hp))\n",
    "        if self.hp <= 0:\n",
    "            print(\"{0} : 파괴되었습니다.\".format(self.name))\n",
    "        \n",
    "\n",
    "### 공격 유닛"
   ]
  },
  {
   "cell_type": "markdown",
   "id": "0fec2988",
   "metadata": {},
   "source": [
    "### 공격 유닛"
   ]
  },
  {
   "cell_type": "code",
   "execution_count": 2,
   "id": "c0421239",
   "metadata": {},
   "outputs": [],
   "source": [
    "class AttackUnit(Unit):\n",
    "    def __init__(self, name, hp, speed, damage):\n",
    "        Unit.__init__(self, name, hp, speed)\n",
    "        self.damage = damage\n",
    "        \n",
    "    def attack(self, location):\n",
    "        print(\"{0} : {1} 방향으로 적군을 공격합니다. [공격력 {2}]\".format(self.name, location, self.damage))        "
   ]
  },
  {
   "cell_type": "markdown",
   "id": "247f670e",
   "metadata": {},
   "source": [
    "### 마린"
   ]
  },
  {
   "cell_type": "code",
   "execution_count": 3,
   "id": "7ec28084",
   "metadata": {},
   "outputs": [],
   "source": [
    "class Marine(AttackUnit):\n",
    "    def __init__(self):\n",
    "        AttackUnit.__init__(self, \"마린\", 40, 1, 5)\n",
    "    \n",
    "    # 스팀팩 : 일정 시간 동안 이동 및 공격 속도를 증가, 1체력 10감소\n",
    "    def stimpack(self):\n",
    "        if self.hp > 10:\n",
    "            self.hp -= 10\n",
    "            print(\"{0} : 스팀팩을 사용합니다. (HP 10 감소)\".format(self.name))\n",
    "        else:\n",
    "            print(\"{0} : 체력이 부족하여 스팀팩을 사용하지 않습니다.\".format(self.name))"
   ]
  },
  {
   "cell_type": "markdown",
   "id": "e6a77a62",
   "metadata": {},
   "source": [
    "### 탱크"
   ]
  },
  {
   "cell_type": "code",
   "execution_count": 4,
   "id": "f3261026",
   "metadata": {},
   "outputs": [],
   "source": [
    "class Tank(AttackUnit):\n",
    "    # 시즈모드 : 탱크를 지상에 고정시켜, 더 높은 파워로 공격 가능. 이동 불가.\n",
    "    seize_developed = False # 시즈모드 개발여부\n",
    "    \n",
    "    def __init__(self):\n",
    "        AttackUnit.__init__(self, \"탱크\", 150, 1, 35)\n",
    "        self.seize_mode = False\n",
    "        \n",
    "    def set_seize_mode(self):\n",
    "        if Tank.seize_developed == False:\n",
    "            return\n",
    "        \n",
    "        #현재 시즈모드가 아닐 떄 -> 시즈모드\n",
    "        if self.seize_mode == False:\n",
    "            print(\"{0} : 시즈모드로 전환합니다.\".format(self.name))\n",
    "            self.damage *= 2\n",
    "            self.speed == 0\n",
    "            self.seize_mode = True\n",
    "        \n",
    "        # 현재 시즈모드일 때 -> 시즈모드 해제\n",
    "        else:\n",
    "            print(\"{0} : 시즈모드를 해제합니다.\".format(self.name))\n",
    "            self.damage /= 2\n",
    "            self.speed == 1\n",
    "            self.seize_mode = False"
   ]
  },
  {
   "cell_type": "markdown",
   "id": "276ced18",
   "metadata": {},
   "source": [
    "### 게임 진행"
   ]
  },
  {
   "cell_type": "code",
   "execution_count": 5,
   "id": "87901c22",
   "metadata": {},
   "outputs": [],
   "source": [
    "def game_start():\n",
    "    print(\"[알림] 새로운 게임을 시작합니다\")"
   ]
  },
  {
   "cell_type": "code",
   "execution_count": 6,
   "id": "30aab6ac",
   "metadata": {},
   "outputs": [],
   "source": [
    "def game_over():\n",
    "    print(\"Player : gg\") \n",
    "    print(\"[Player] 님이 게임에서 퇴장하셨습니다\")"
   ]
  },
  {
   "cell_type": "markdown",
   "id": "daa9c767",
   "metadata": {},
   "source": [
    "# 실제 게임 진행"
   ]
  },
  {
   "cell_type": "code",
   "execution_count": 7,
   "id": "b4a4317f",
   "metadata": {},
   "outputs": [
    {
     "name": "stdout",
     "output_type": "stream",
     "text": [
      "마린 유닛이 생성되었습니다.\n",
      "마린 유닛이 생성되었습니다.\n",
      "마린 유닛이 생성되었습니다.\n",
      "탱크 유닛이 생성되었습니다.\n",
      "탱크 유닛이 생성되었습니다.\n"
     ]
    }
   ],
   "source": [
    "# 마린 3개 생성\n",
    "m1 = Marine()\n",
    "m2 = Marine()\n",
    "m3 = Marine()\n",
    "\n",
    "# 탱크 2기 생성\n",
    "t1 = Tank()\n",
    "t2 = Tank()"
   ]
  },
  {
   "cell_type": "markdown",
   "id": "100c87bc",
   "metadata": {},
   "source": [
    "### 유닛 일괄 관리 (생성된 모든 유닛 append)"
   ]
  },
  {
   "cell_type": "code",
   "execution_count": 8,
   "id": "d931523b",
   "metadata": {},
   "outputs": [],
   "source": [
    "attack_units =[]\n",
    "attack_units.append(m1)\n",
    "attack_units.append(m2)\n",
    "attack_units.append(m3)\n",
    "attack_units.append(t1)\n",
    "attack_units.append(t2)"
   ]
  },
  {
   "cell_type": "markdown",
   "id": "3e0b56b8",
   "metadata": {},
   "source": [
    "### 전군 이동"
   ]
  },
  {
   "cell_type": "code",
   "execution_count": 9,
   "id": "d5963ebd",
   "metadata": {},
   "outputs": [
    {
     "name": "stdout",
     "output_type": "stream",
     "text": [
      "[지상 유닛 이동]\n",
      "마린 : 1시 방향으로 이동합니다. [속도 1]\n",
      "[지상 유닛 이동]\n",
      "마린 : 1시 방향으로 이동합니다. [속도 1]\n",
      "[지상 유닛 이동]\n",
      "마린 : 1시 방향으로 이동합니다. [속도 1]\n",
      "[지상 유닛 이동]\n",
      "탱크 : 1시 방향으로 이동합니다. [속도 1]\n",
      "[지상 유닛 이동]\n",
      "탱크 : 1시 방향으로 이동합니다. [속도 1]\n"
     ]
    }
   ],
   "source": [
    "for unit in attack_units:\n",
    "    unit.move(\"1시\")"
   ]
  },
  {
   "cell_type": "markdown",
   "id": "38ad07af",
   "metadata": {},
   "source": [
    "### 탱크 시즈모드 개발"
   ]
  },
  {
   "cell_type": "code",
   "execution_count": 10,
   "id": "ac0da4db",
   "metadata": {},
   "outputs": [
    {
     "name": "stdout",
     "output_type": "stream",
     "text": [
      "[알림] 탱크 시즈 모드 개발이 완료되었습니다.\n"
     ]
    }
   ],
   "source": [
    "Tank.seize_developed = True\n",
    "print(\"[알림] 탱크 시즈 모드 개발이 완료되었습니다.\")"
   ]
  },
  {
   "cell_type": "markdown",
   "id": "d4413329",
   "metadata": {},
   "source": [
    "### 공격 모드 준비 (마린 : 스팀팩, 탱크 : 시즈모드)"
   ]
  },
  {
   "cell_type": "code",
   "execution_count": 11,
   "id": "0e03bda6",
   "metadata": {},
   "outputs": [
    {
     "name": "stdout",
     "output_type": "stream",
     "text": [
      "마린 : 스팀팩을 사용합니다. (HP 10 감소)\n",
      "마린 : 스팀팩을 사용합니다. (HP 10 감소)\n",
      "마린 : 스팀팩을 사용합니다. (HP 10 감소)\n",
      "탱크 : 시즈모드로 전환합니다.\n",
      "탱크 : 시즈모드로 전환합니다.\n"
     ]
    }
   ],
   "source": [
    "for unit in attack_units:\n",
    "    if isinstance(unit, Marine):\n",
    "        unit.stimpack()\n",
    "    elif isinstance(unit, Tank):\n",
    "        unit.set_seize_mode()"
   ]
  },
  {
   "cell_type": "markdown",
   "id": "b2382cb1",
   "metadata": {},
   "source": [
    "### 전군 공격"
   ]
  },
  {
   "cell_type": "code",
   "execution_count": 12,
   "id": "1f28a4ba",
   "metadata": {},
   "outputs": [
    {
     "name": "stdout",
     "output_type": "stream",
     "text": [
      "마린 : 1시 방향으로 적군을 공격합니다. [공격력 5]\n",
      "마린 : 1시 방향으로 적군을 공격합니다. [공격력 5]\n",
      "마린 : 1시 방향으로 적군을 공격합니다. [공격력 5]\n",
      "탱크 : 1시 방향으로 적군을 공격합니다. [공격력 70]\n",
      "탱크 : 1시 방향으로 적군을 공격합니다. [공격력 70]\n"
     ]
    }
   ],
   "source": [
    "for unit in attack_units:\n",
    "    unit.attack(\"1시\")"
   ]
  },
  {
   "cell_type": "markdown",
   "id": "3defd21c",
   "metadata": {},
   "source": [
    "### 전군 피해"
   ]
  },
  {
   "cell_type": "code",
   "execution_count": 13,
   "id": "fcdf00b2",
   "metadata": {},
   "outputs": [
    {
     "name": "stdout",
     "output_type": "stream",
     "text": [
      "마린 : 18 데미지를 입었습니다.\n",
      "마린 : 현재 체력은 12 입니다\n",
      "마린 : 12 데미지를 입었습니다.\n",
      "마린 : 현재 체력은 18 입니다\n",
      "마린 : 10 데미지를 입었습니다.\n",
      "마린 : 현재 체력은 20 입니다\n",
      "탱크 : 13 데미지를 입었습니다.\n",
      "탱크 : 현재 체력은 137 입니다\n",
      "탱크 : 18 데미지를 입었습니다.\n",
      "탱크 : 현재 체력은 132 입니다\n"
     ]
    }
   ],
   "source": [
    "from random import *\n",
    "\n",
    "for unit in attack_units:\n",
    "    unit.damaged(randint(5,20)) # 공격은 랜덤으로 받음 (5~20)"
   ]
  },
  {
   "cell_type": "code",
   "execution_count": 14,
   "id": "d1765f1e",
   "metadata": {},
   "outputs": [
    {
     "name": "stdout",
     "output_type": "stream",
     "text": [
      "마린 : 13 데미지를 입었습니다.\n",
      "마린 : 현재 체력은 -1 입니다\n",
      "마린 : 파괴되었습니다.\n",
      "마린 : 9 데미지를 입었습니다.\n",
      "마린 : 현재 체력은 9 입니다\n",
      "마린 : 12 데미지를 입었습니다.\n",
      "마린 : 현재 체력은 8 입니다\n",
      "탱크 : 14 데미지를 입었습니다.\n",
      "탱크 : 현재 체력은 123 입니다\n",
      "탱크 : 14 데미지를 입었습니다.\n",
      "탱크 : 현재 체력은 118 입니다\n"
     ]
    }
   ],
   "source": [
    "for unit in attack_units:\n",
    "    unit.damaged(randint(5,20))"
   ]
  },
  {
   "cell_type": "code",
   "execution_count": 15,
   "id": "ac732ab9",
   "metadata": {},
   "outputs": [
    {
     "name": "stdout",
     "output_type": "stream",
     "text": [
      "Player : gg\n",
      "[Player] 님이 게임에서 퇴장하셨습니다\n"
     ]
    }
   ],
   "source": [
    "# 게임 종료\n",
    "game_over()"
   ]
  }
 ],
 "metadata": {
  "kernelspec": {
   "display_name": "Python 3 (ipykernel)",
   "language": "python",
   "name": "python3"
  },
  "language_info": {
   "codemirror_mode": {
    "name": "ipython",
    "version": 3
   },
   "file_extension": ".py",
   "mimetype": "text/x-python",
   "name": "python",
   "nbconvert_exporter": "python",
   "pygments_lexer": "ipython3",
   "version": "3.9.7"
  }
 },
 "nbformat": 4,
 "nbformat_minor": 5
}
