{
 "cells": [
  {
   "cell_type": "markdown",
   "id": "fe361dd3",
   "metadata": {},
   "source": [
    "# 10. menu"
   ]
  },
  {
   "cell_type": "code",
   "execution_count": 6,
   "id": "13b40700",
   "metadata": {},
   "outputs": [],
   "source": [
    "from tkinter import *\n",
    "\n",
    "root = Tk()\n",
    "root.title(\"GUI 예제\")\n",
    "root.geometry(\"640x480\")\n",
    "\n",
    "def create_new_file():\n",
    "    print(\"새 파일을 만듭니다.\")\n",
    "\n",
    "menu = Menu(root)\n",
    "\n",
    "# File 메뉴\n",
    "menu_file = Menu(menu, tearoff=0)\n",
    "menu_file.add_command(label=\"New File\", command = create_new_file)\n",
    "menu_file.add_separator()\n",
    "menu_file.add_command(label=\"Open File...\")\n",
    "menu_file.add_separator()\n",
    "menu_file.add_command(label=\"Save All\", state=\"disable\") # 비활성화\n",
    "menu_file.add_separator()\n",
    "menu_file.add_command(label=\"Exit\", command=root.destroy)\n",
    "menu.add_cascade(label=\"File\", menu=menu_file)\n",
    "\n",
    "# Edit 메뉴 (빈 값)\n",
    "menu.add_cascade(label=\"Edit\")\n",
    "\n",
    "# Language 메뉴 추가 (radio 버튼을 통해서 택1)\n",
    "menu_lang = Menu(menu, tearoff=0)\n",
    "menu_lang.add_radiobutton(label=\"Python\")\n",
    "menu_lang.add_radiobutton(label=\"Java\")\n",
    "menu_lang.add_radiobutton(label=\"C++\")\n",
    "menu.add_cascade(label=\"Language\", menu=menu_lang)\n",
    "\n",
    "# View 메뉴\n",
    "menu_view = Menu(menu, tearoff=0)\n",
    "menu_view.add_checkbutton(label=\"Show Minimap\")\n",
    "menu.add_cascade(label=\"View\", menu=menu_view)\n",
    "\n",
    "root.config(menu = menu)\n",
    "root.mainloop()"
   ]
  }
 ],
 "metadata": {
  "kernelspec": {
   "display_name": "Python 3 (ipykernel)",
   "language": "python",
   "name": "python3"
  },
  "language_info": {
   "codemirror_mode": {
    "name": "ipython",
    "version": 3
   },
   "file_extension": ".py",
   "mimetype": "text/x-python",
   "name": "python",
   "nbconvert_exporter": "python",
   "pygments_lexer": "ipython3",
   "version": "3.9.7"
  }
 },
 "nbformat": 4,
 "nbformat_minor": 5
}
