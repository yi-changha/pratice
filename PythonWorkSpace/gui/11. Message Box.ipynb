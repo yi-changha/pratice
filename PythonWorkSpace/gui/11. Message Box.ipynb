{
 "cells": [
  {
   "cell_type": "markdown",
   "id": "67df5f42",
   "metadata": {},
   "source": [
    "# 11. Message Box"
   ]
  },
  {
   "cell_type": "code",
   "execution_count": 12,
   "id": "bc87494d",
   "metadata": {},
   "outputs": [
    {
     "name": "stdout",
     "output_type": "stream",
     "text": [
      "응답: True\n",
      "예\n",
      "응답: False\n",
      "아니오\n",
      "응답: None\n",
      "취소\n"
     ]
    }
   ],
   "source": [
    "import tkinter.messagebox as msgbox\n",
    "from tkinter import *\n",
    "\n",
    "root = Tk()\n",
    "root.title(\"GUI 예제\")\n",
    "root.geometry(\"640x480\")\n",
    "\n",
    "# 기차 예매 시스템이라고 가정\n",
    "def info():\n",
    "    msgbox.showinfo(\"알림\", \"정상적으로 예매 완료되었습니다.\")\n",
    "    \n",
    "def warn():\n",
    "    msgbox.showwarning(\"경고\", \"해당 좌석은 매진되었습니다.\")\n",
    "\n",
    "def error():\n",
    "    msgbox.showerror(\"에러\", \"결제 오류가 발생했습니다.\")\n",
    "    \n",
    "def okcancel():\n",
    "    msgbox.askokcancel(\"확인 / 취소\", \"해당 좌석은 유아동반석입니다. 예매하시겠습니까?\")\n",
    "    \n",
    "def retrycancel():\n",
    "    msgbox.askretrycancel(\"재시도 / 취소\", \"일시적인 오류입니다. 다시 시도하시겠습니까?\")\n",
    "    \n",
    "def yesno():\n",
    "    msgbox.askyesno(\"예 / 아니오\", \"해당 좌석은 역방향입니다. 예매하시겠습니까?\")\n",
    "    \n",
    "def yesnocancel():\n",
    "    response = msgbox.askyesnocancel(title=None, message=\"예매 내역이 저장되지 않았습니다.\\n저장 후 프로그램을 종료하시겠습니까?\")\n",
    "    # 예 : 저장 후 종료\n",
    "    # 아니오 : 저장하지 않고 종료\n",
    "    # 취소 : 프로그램 종료 취소 (현재 화면에서 계속 작업)\n",
    "    print(\"응답:\", response) # True, False, None -> 예 1, 아니오 0, 그 외\n",
    "    if response == 1: # 네, ok\n",
    "        print(\"예\")\n",
    "    elif response == 0: # 아니오\n",
    "        print(\"아니오\")\n",
    "    else:\n",
    "        print(\"취소\")\n",
    "    \n",
    "    \n",
    "Button(root, command = info, text=\"알림\").pack()\n",
    "Button(root, command = warn, text=\"경고\").pack()\n",
    "Button(root, command = error, text=\"에러\").pack()\n",
    "\n",
    "Button(root, command =okcancel, text=\"확인 취소\").pack()\n",
    "Button(root, command =retrycancel, text=\"재시도 취소\").pack()\n",
    "Button(root, command =yesno, text=\"예 아니오\").pack()\n",
    "Button(root, command =yesnocancel, text=\"예 아니오 취소\").pack()\n",
    "\n",
    "root.mainloop()"
   ]
  }
 ],
 "metadata": {
  "kernelspec": {
   "display_name": "Python 3 (ipykernel)",
   "language": "python",
   "name": "python3"
  },
  "language_info": {
   "codemirror_mode": {
    "name": "ipython",
    "version": 3
   },
   "file_extension": ".py",
   "mimetype": "text/x-python",
   "name": "python",
   "nbconvert_exporter": "python",
   "pygments_lexer": "ipython3",
   "version": "3.9.7"
  }
 },
 "nbformat": 4,
 "nbformat_minor": 5
}
