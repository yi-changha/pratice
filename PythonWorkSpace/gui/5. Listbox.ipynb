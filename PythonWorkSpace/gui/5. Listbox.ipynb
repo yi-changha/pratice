{
 "cells": [
  {
   "cell_type": "markdown",
   "id": "95b86f43",
   "metadata": {},
   "source": [
    "# 5. Listbox"
   ]
  },
  {
   "cell_type": "code",
   "execution_count": 5,
   "id": "e67cf3a2",
   "metadata": {},
   "outputs": [],
   "source": [
    "from tkinter import *\n",
    "root = Tk()\n",
    "root.title(\"GUI 예제\")\n",
    "root.geometry(\"640x480\")\n",
    "\n",
    "listbox = Listbox(root, selectmode=\"extended\", height=0) \n",
    "# selectmode. extended : 여러 개 선택 가능. single : 한 개만 선택 가능\n",
    "# height. 지정된 숫자만큼만 보임. 0 : 모두 보기. 키보드 이동을 통해 안 보이는 리스트 확인 가능.\n",
    "\n",
    "listbox.insert(0, \"사과\")\n",
    "listbox.insert(1, \"딸기\")\n",
    "listbox.insert(2, \"바나나\")\n",
    "listbox.insert(END, \"수박\")\n",
    "listbox.insert(END, \"포도\")\n",
    "listbox.pack()\n",
    "\n",
    "def btncmd():\n",
    "    pass\n",
    "\n",
    "btn = Button(root, text=\"클릭\", command = btncmd)\n",
    "btn.pack()\n",
    "\n",
    "root.mainloop()"
   ]
  },
  {
   "cell_type": "markdown",
   "id": "4fa94fc1",
   "metadata": {},
   "source": [
    "## 항목 삭제"
   ]
  },
  {
   "cell_type": "code",
   "execution_count": 6,
   "id": "94761113",
   "metadata": {},
   "outputs": [],
   "source": [
    "from tkinter import *\n",
    "root = Tk()\n",
    "root.title(\"GUI 예제\")\n",
    "root.geometry(\"640x480\")\n",
    "\n",
    "listbox = Listbox(root, selectmode=\"extended\", height=0) \n",
    "# selectmode. extended : 여러 개 선택 가능. single : 한 개만 선택 가능\n",
    "# height. 지정된 숫자만큼만 보임. 0 : 모두 보기. 키보드 이동을 통해 안 보이는 리스트 확인 가능.\n",
    "\n",
    "listbox.insert(0, \"사과\")\n",
    "listbox.insert(1, \"딸기\")\n",
    "listbox.insert(2, \"바나나\")\n",
    "listbox.insert(END, \"수박\")\n",
    "listbox.insert(END, \"포도\")\n",
    "listbox.pack()\n",
    "\n",
    "def btncmd():\n",
    "    listbox.delete(0) # 맨 앞에 항목을 삭제\n",
    "    #listbox.delete(END) # 맨 뒤에 항목을 삭제\n",
    "\n",
    "btn = Button(root, text=\"클릭\", command = btncmd)\n",
    "btn.pack()\n",
    "\n",
    "root.mainloop()"
   ]
  },
  {
   "cell_type": "markdown",
   "id": "5bfeb68b",
   "metadata": {},
   "source": [
    "## 갯수 확인"
   ]
  },
  {
   "cell_type": "code",
   "execution_count": 7,
   "id": "ac678ccd",
   "metadata": {},
   "outputs": [
    {
     "name": "stdout",
     "output_type": "stream",
     "text": [
      "리스트에는 5 개가 있어요\n"
     ]
    }
   ],
   "source": [
    "from tkinter import *\n",
    "root = Tk()\n",
    "root.title(\"GUI 예제\")\n",
    "root.geometry(\"640x480\")\n",
    "\n",
    "listbox = Listbox(root, selectmode=\"extended\", height=0) \n",
    "# selectmode. extended : 여러 개 선택 가능. single : 한 개만 선택 가능\n",
    "# height. 지정된 숫자만큼만 보임. 0 : 모두 보기. 키보드 이동을 통해 안 보이는 리스트 확인 가능.\n",
    "\n",
    "listbox.insert(0, \"사과\")\n",
    "listbox.insert(1, \"딸기\")\n",
    "listbox.insert(2, \"바나나\")\n",
    "listbox.insert(END, \"수박\")\n",
    "listbox.insert(END, \"포도\")\n",
    "listbox.pack()\n",
    "\n",
    "def btncmd():\n",
    "   # 갯수 확인\n",
    "    print(\"리스트에는\", listbox.size(), \"개가 있어요\")\n",
    "\n",
    "btn = Button(root, text=\"클릭\", command = btncmd)\n",
    "btn.pack()\n",
    "\n",
    "root.mainloop()"
   ]
  },
  {
   "cell_type": "markdown",
   "id": "d6c21a70",
   "metadata": {},
   "source": [
    "## 항목 확인"
   ]
  },
  {
   "cell_type": "code",
   "execution_count": 8,
   "id": "b7bbb9fd",
   "metadata": {},
   "outputs": [
    {
     "name": "stdout",
     "output_type": "stream",
     "text": [
      "1번째부터 3번째 까지의 항목 :  ('사과', '딸기', '바나나')\n"
     ]
    }
   ],
   "source": [
    "from tkinter import *\n",
    "root = Tk()\n",
    "root.title(\"GUI 예제\")\n",
    "root.geometry(\"640x480\")\n",
    "\n",
    "listbox = Listbox(root, selectmode=\"extended\", height=0) \n",
    "# selectmode. extended : 여러 개 선택 가능. single : 한 개만 선택 가능\n",
    "# height. 지정된 숫자만큼만 보임. 0 : 모두 보기. 키보드 이동을 통해 안 보이는 리스트 확인 가능.\n",
    "\n",
    "listbox.insert(0, \"사과\")\n",
    "listbox.insert(1, \"딸기\")\n",
    "listbox.insert(2, \"바나나\")\n",
    "listbox.insert(END, \"수박\")\n",
    "listbox.insert(END, \"포도\")\n",
    "listbox.pack()\n",
    "\n",
    "def btncmd():\n",
    "   # 항목 확인 (시작 idx, 끝 idx)\n",
    "    print(\"1번째부터 3번째 까지의 항목 : \", listbox.get(0, 2))\n",
    "\n",
    "btn = Button(root, text=\"클릭\", command = btncmd)\n",
    "btn.pack()\n",
    "\n",
    "root.mainloop()"
   ]
  },
  {
   "cell_type": "markdown",
   "id": "ee4e55cb",
   "metadata": {},
   "source": [
    "## 선택된 항목 확인"
   ]
  },
  {
   "cell_type": "code",
   "execution_count": 9,
   "id": "8cceedd9",
   "metadata": {},
   "outputs": [
    {
     "name": "stdout",
     "output_type": "stream",
     "text": [
      "선택된 항목 :  (0, 1, 2)\n",
      "선택된 항목 :  (3, 4)\n"
     ]
    }
   ],
   "source": [
    "from tkinter import *\n",
    "root = Tk()\n",
    "root.title(\"GUI 예제\")\n",
    "root.geometry(\"640x480\")\n",
    "\n",
    "listbox = Listbox(root, selectmode=\"extended\", height=0) \n",
    "# selectmode. extended : 여러 개 선택 가능. single : 한 개만 선택 가능\n",
    "# height. 지정된 숫자만큼만 보임. 0 : 모두 보기. 키보드 이동을 통해 안 보이는 리스트 확인 가능.\n",
    "\n",
    "listbox.insert(0, \"사과\")\n",
    "listbox.insert(1, \"딸기\")\n",
    "listbox.insert(2, \"바나나\")\n",
    "listbox.insert(END, \"수박\")\n",
    "listbox.insert(END, \"포도\")\n",
    "listbox.pack()\n",
    "\n",
    "def btncmd():\n",
    "   # 선택된 항목 확인 (위치로 반환 (ex) (1, 2, 3))\n",
    "    print(\"선택된 항목 : \", listbox.curselection())\n",
    "\n",
    "btn = Button(root, text=\"클릭\", command = btncmd)\n",
    "btn.pack()\n",
    "\n",
    "root.mainloop()"
   ]
  }
 ],
 "metadata": {
  "kernelspec": {
   "display_name": "Python 3 (ipykernel)",
   "language": "python",
   "name": "python3"
  },
  "language_info": {
   "codemirror_mode": {
    "name": "ipython",
    "version": 3
   },
   "file_extension": ".py",
   "mimetype": "text/x-python",
   "name": "python",
   "nbconvert_exporter": "python",
   "pygments_lexer": "ipython3",
   "version": "3.9.7"
  }
 },
 "nbformat": 4,
 "nbformat_minor": 5
}
