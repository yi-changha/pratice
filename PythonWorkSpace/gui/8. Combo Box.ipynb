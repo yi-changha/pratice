{
 "cells": [
  {
   "cell_type": "markdown",
   "id": "91f9ec02",
   "metadata": {},
   "source": [
    "# 8. Combo Box"
   ]
  },
  {
   "cell_type": "code",
   "execution_count": 3,
   "id": "f3aca307",
   "metadata": {
    "scrolled": false
   },
   "outputs": [
    {
     "name": "stdout",
     "output_type": "stream",
     "text": [
      "카드 결제일\n",
      "1일\n",
      "31일\n",
      "카드 값 내기 싫이요\n"
     ]
    }
   ],
   "source": [
    "import tkinter.ttk as ttk\n",
    "from tkinter import *\n",
    "\n",
    "root = Tk()\n",
    "root.title(\"GUI 예제\")\n",
    "root.geometry(\"640x480\")\n",
    "\n",
    "values = [str(i) + \"일\" for i in range(1, 32)] # 1 ~ 31까지의 숫자\n",
    "combobox = ttk.Combobox(root, height = 5, values=values)\n",
    "combobox.pack()\n",
    "combobox.set(\"카드 결제일\") # 최초 목록 제목 설정\n",
    "\n",
    "def btncmd():\n",
    "    print(combobox.get()) # 선택된 값 표시\n",
    "\n",
    "btn = Button(root, text=\"선택\", command = btncmd)\n",
    "btn.pack()\n",
    "\n",
    "root.mainloop()"
   ]
  },
  {
   "cell_type": "markdown",
   "id": "e4e6bdf8",
   "metadata": {},
   "source": [
    "## 읽기 전용 combo box"
   ]
  },
  {
   "cell_type": "code",
   "execution_count": 4,
   "id": "7c0f0874",
   "metadata": {},
   "outputs": [
    {
     "name": "stdout",
     "output_type": "stream",
     "text": [
      "1일\n",
      "31일\n"
     ]
    }
   ],
   "source": [
    "import tkinter.ttk as ttk\n",
    "from tkinter import *\n",
    "\n",
    "root = Tk()\n",
    "root.title(\"GUI 예제\")\n",
    "root.geometry(\"640x480\")\n",
    "\n",
    "values = [str(i) + \"일\" for i in range(1, 32)] # 1 ~ 31까지의 숫자\n",
    "combobox = ttk.Combobox(root, height = 5, values=values, state=\"readonly\")\n",
    "combobox.current(0) # 0번째 인덱스 값 표시\n",
    "combobox.pack()\n",
    "\n",
    "def btncmd():\n",
    "    print(combobox.get()) # 선택된 값 표시\n",
    "\n",
    "btn = Button(root, text=\"선택\", command = btncmd)\n",
    "btn.pack()\n",
    "\n",
    "root.mainloop()"
   ]
  }
 ],
 "metadata": {
  "kernelspec": {
   "display_name": "Python 3 (ipykernel)",
   "language": "python",
   "name": "python3"
  },
  "language_info": {
   "codemirror_mode": {
    "name": "ipython",
    "version": 3
   },
   "file_extension": ".py",
   "mimetype": "text/x-python",
   "name": "python",
   "nbconvert_exporter": "python",
   "pygments_lexer": "ipython3",
   "version": "3.9.7"
  }
 },
 "nbformat": 4,
 "nbformat_minor": 5
}
