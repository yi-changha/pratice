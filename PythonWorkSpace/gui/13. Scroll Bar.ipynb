{
 "cells": [
  {
   "cell_type": "markdown",
   "id": "35bd911c",
   "metadata": {},
   "source": [
    "# 13. Scroll Bar"
   ]
  },
  {
   "cell_type": "code",
   "execution_count": 3,
   "id": "5acb76a5",
   "metadata": {},
   "outputs": [],
   "source": [
    "from tkinter import *\n",
    "\n",
    "root = Tk()\n",
    "root.title(\"GUI 예제\")\n",
    "root.geometry(\"640x480\")\n",
    "\n",
    "frame = Frame(root)\n",
    "frame.pack()\n",
    "\n",
    "scrollbar = Scrollbar(frame)\n",
    "scrollbar.pack(side=\"right\", fill=\"y\")\n",
    "\n",
    "# set이 없으면 스크롤을 내려도 다시 올라옴\n",
    "listbox = Listbox(frame, selectmode=\"extended\", height = 10, yscrollcommand = scrollbar.set)\n",
    "\n",
    "for i in range(1, 32): # 1 ~ 31 일\n",
    "    listbox.insert(END, str(i) + \"일\") # 1일, 2일, ...\n",
    "listbox.pack(side=\"left\")\n",
    "\n",
    "scrollbar.config(command=listbox.yview)\n",
    "\n",
    "root.mainloop()"
   ]
  }
 ],
 "metadata": {
  "kernelspec": {
   "display_name": "Python 3 (ipykernel)",
   "language": "python",
   "name": "python3"
  },
  "language_info": {
   "codemirror_mode": {
    "name": "ipython",
    "version": 3
   },
   "file_extension": ".py",
   "mimetype": "text/x-python",
   "name": "python",
   "nbconvert_exporter": "python",
   "pygments_lexer": "ipython3",
   "version": "3.9.7"
  }
 },
 "nbformat": 4,
 "nbformat_minor": 5
}
