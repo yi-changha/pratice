{
 "cells": [
  {
   "cell_type": "markdown",
   "id": "7dc083b0",
   "metadata": {},
   "source": [
    "# 7. Radio button"
   ]
  },
  {
   "cell_type": "code",
   "execution_count": 3,
   "id": "0b076b8a",
   "metadata": {},
   "outputs": [],
   "source": [
    "from tkinter import *\n",
    "root = Tk()\n",
    "root.title(\"GUI 예제\")\n",
    "root.geometry(\"640x480\")\n",
    "\n",
    "label1 = Label(root, text=\"메뉴를 선택하세요\").pack()\n",
    "\n",
    "burger_var = IntVar() # 여기에 int형으로 값을 저장\n",
    "btn_burger1 = Radiobutton(root, text=\"햄버거\", value=1, variable=burger_var)\n",
    "btn_burger1.select()\n",
    "btn_burger2 = Radiobutton(root, text=\"치즈버거\", value=2, variable=burger_var)\n",
    "btn_burger3 = Radiobutton(root, text=\"치킨버거\", value=3, variable=burger_var)\n",
    "\n",
    "btn_burger1.pack()\n",
    "btn_burger2.pack()\n",
    "btn_burger3.pack()\n",
    "\n",
    "def btncmd():\n",
    "    pass\n",
    "\n",
    "btn = Button(root, text=\"클릭\", command = btncmd)\n",
    "btn.pack()\n",
    "\n",
    "root.mainloop()"
   ]
  },
  {
   "cell_type": "markdown",
   "id": "062f8425",
   "metadata": {},
   "source": [
    "## 선택한 값 가져오기"
   ]
  },
  {
   "cell_type": "code",
   "execution_count": 4,
   "id": "65124741",
   "metadata": {
    "scrolled": true
   },
   "outputs": [
    {
     "name": "stdout",
     "output_type": "stream",
     "text": [
      "1\n",
      "3\n",
      "2\n"
     ]
    }
   ],
   "source": [
    "from tkinter import *\n",
    "root = Tk()\n",
    "root.title(\"GUI 예제\")\n",
    "root.geometry(\"640x480\")\n",
    "\n",
    "label1 = Label(root, text=\"메뉴를 선택하세요\").pack()\n",
    "\n",
    "burger_var = IntVar() # 여기에 int형으로 값을 저장\n",
    "btn_burger1 = Radiobutton(root, text=\"햄버거\", value=1, variable=burger_var)\n",
    "btn_burger1.select()\n",
    "btn_burger2 = Radiobutton(root, text=\"치즈버거\", value=2, variable=burger_var)\n",
    "btn_burger3 = Radiobutton(root, text=\"치킨버거\", value=3, variable=burger_var)\n",
    "\n",
    "btn_burger1.pack()\n",
    "btn_burger2.pack()\n",
    "btn_burger3.pack()\n",
    "\n",
    "def btncmd():\n",
    "    print(burger_var.get()) # 햄버거 중 선택된 라디오 항목의 값(value)을 출력\n",
    "\n",
    "btn = Button(root, text=\"주문\", command = btncmd)\n",
    "btn.pack()\n",
    "\n",
    "root.mainloop()"
   ]
  },
  {
   "cell_type": "markdown",
   "id": "5fd24649",
   "metadata": {},
   "source": [
    "## 문자열을 ID로 받기"
   ]
  },
  {
   "cell_type": "code",
   "execution_count": 10,
   "id": "40b510e0",
   "metadata": {},
   "outputs": [
    {
     "name": "stdout",
     "output_type": "stream",
     "text": [
      "1\n",
      "사이다\n",
      "2\n",
      "콜라\n"
     ]
    }
   ],
   "source": [
    "from tkinter import *\n",
    "root = Tk()\n",
    "root.title(\"GUI 예제\")\n",
    "root.geometry(\"640x480\")\n",
    "\n",
    "# 버거\n",
    "label1 = Label(root, text=\"메뉴를 선택하세요\").pack()\n",
    "\n",
    "burger_var = IntVar() # 여기에 int형으로 값을 저장\n",
    "btn_burger1 = Radiobutton(root, text=\"햄버거\", value=1, variable=burger_var)\n",
    "btn_burger1.select() # 기본값 선택\n",
    "btn_burger2 = Radiobutton(root, text=\"치즈버거\", value=2, variable=burger_var)\n",
    "btn_burger3 = Radiobutton(root, text=\"치킨버거\", value=3, variable=burger_var)\n",
    "\n",
    "btn_burger1.pack()\n",
    "btn_burger2.pack()\n",
    "btn_burger3.pack()\n",
    "\n",
    "# 음료\n",
    "label2 = Label(root, text=\"음료를 선택하세요\").pack()\n",
    "\n",
    "drink_var = StringVar()\n",
    "btn_drink1 = Radiobutton(root, text=\"콜라\", value = \"콜라\", variable=drink_var)\n",
    "btn_drink1.select() # 기본값 선택\n",
    "btn_drink2 = Radiobutton(root, text=\"사이다\", value = \"사이다\", variable=drink_var)\n",
    "\n",
    "btn_drink1.pack()\n",
    "btn_drink2.pack()\n",
    "\n",
    "def btncmd():\n",
    "    print(burger_var.get()) # 햄버거 중 선택된 라디오 항목의 값(value)을 출력\n",
    "    print(drink_var.get()) # 음료 중 선택된 값을 출력\n",
    "\n",
    "btn = Button(root, text=\"주문\", command = btncmd)\n",
    "btn.pack()\n",
    "\n",
    "root.mainloop()"
   ]
  }
 ],
 "metadata": {
  "kernelspec": {
   "display_name": "Python 3 (ipykernel)",
   "language": "python",
   "name": "python3"
  },
  "language_info": {
   "codemirror_mode": {
    "name": "ipython",
    "version": 3
   },
   "file_extension": ".py",
   "mimetype": "text/x-python",
   "name": "python",
   "nbconvert_exporter": "python",
   "pygments_lexer": "ipython3",
   "version": "3.9.7"
  }
 },
 "nbformat": 4,
 "nbformat_minor": 5
}
