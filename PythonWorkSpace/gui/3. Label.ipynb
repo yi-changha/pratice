{
 "cells": [
  {
   "cell_type": "markdown",
   "id": "6c30d788",
   "metadata": {},
   "source": [
    "# 3. Label"
   ]
  },
  {
   "cell_type": "code",
   "execution_count": 1,
   "id": "32d34767",
   "metadata": {},
   "outputs": [],
   "source": [
    "from tkinter import *"
   ]
  },
  {
   "cell_type": "code",
   "execution_count": 10,
   "id": "9a826e9a",
   "metadata": {},
   "outputs": [],
   "source": [
    "root = Tk()\n",
    "root.title(\"GUI 예제\")\n",
    "root.geometry(\"640x480\")\n",
    "\n",
    "label1 = Label(root, text=\"안녕하세요\")\n",
    "label1.pack()\n",
    "\n",
    "photo = PhotoImage(file =\"img.png\", master = root)\n",
    "label2 = Label(root, image= photo)\n",
    "label2.pack()\n",
    "\n",
    "def change():\n",
    "    label1.config(text=\"또 만나요\")\n",
    "    \n",
    "    photo2 = PhotoImage(file =\"img2.png\", master = root)\n",
    "    label2.config(image=photo2)\n",
    "\n",
    "btn = Button(root, text=\"클릭\", command = change)\n",
    "btn.pack()\n",
    "\n",
    "root.mainloop()"
   ]
  },
  {
   "cell_type": "markdown",
   "id": "c1fca275",
   "metadata": {},
   "source": [
    "이미지가 사라지는 오류 발생\n",
    "- garbage collection : 불필요한 메모리 공간 해제\n",
    "- 전역 변수로 선언해서 해결 가능."
   ]
  },
  {
   "cell_type": "code",
   "execution_count": 11,
   "id": "4f22606b",
   "metadata": {},
   "outputs": [],
   "source": [
    "root = Tk()\n",
    "root.title(\"GUI 예제\")\n",
    "root.geometry(\"640x480\")\n",
    "\n",
    "label1 = Label(root, text=\"안녕하세요\")\n",
    "label1.pack()\n",
    "\n",
    "photo = PhotoImage(file =\"img.png\", master = root)\n",
    "label2 = Label(root, image= photo)\n",
    "label2.pack()\n",
    "\n",
    "def change():\n",
    "    label1.config(text=\"또 만나요\")\n",
    "    \n",
    "    global photo2\n",
    "    photo2 = PhotoImage(file =\"img2.png\", master = root)\n",
    "    label2.config(image=photo2)\n",
    "\n",
    "btn = Button(root, text=\"클릭\", command = change)\n",
    "btn.pack()\n",
    "\n",
    "root.mainloop()"
   ]
  }
 ],
 "metadata": {
  "kernelspec": {
   "display_name": "Python 3 (ipykernel)",
   "language": "python",
   "name": "python3"
  },
  "language_info": {
   "codemirror_mode": {
    "name": "ipython",
    "version": 3
   },
   "file_extension": ".py",
   "mimetype": "text/x-python",
   "name": "python",
   "nbconvert_exporter": "python",
   "pygments_lexer": "ipython3",
   "version": "3.9.7"
  }
 },
 "nbformat": 4,
 "nbformat_minor": 5
}
