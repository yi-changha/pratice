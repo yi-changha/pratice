{
 "cells": [
  {
   "cell_type": "markdown",
   "id": "14dfb4a8",
   "metadata": {},
   "source": [
    "# 12. Frame"
   ]
  },
  {
   "cell_type": "code",
   "execution_count": 3,
   "id": "885f2e42",
   "metadata": {},
   "outputs": [],
   "source": [
    "from tkinter import *\n",
    "\n",
    "root = Tk()\n",
    "root.title(\"GUI 예제\")\n",
    "root.geometry(\"640x480\")\n",
    "\n",
    "frame_burger = Frame(root, relief=\"solid\", bd=1)\n",
    "frame_burger.pack()\n",
    "\n",
    "Button(frame_burger, text=\"햄버거\").pack()\n",
    "Button(frame_burger, text=\"치즈버거\").pack()\n",
    "Button(frame_burger, text=\"치킨버거\").pack()\n",
    "\n",
    "frame_drink = LabelFrame(root, text=\"음료\")\n",
    "frame_drink.pack()\n",
    "Button(frame_drink, text=\"콜라\").pack()\n",
    "Button(frame_drink, text=\"사이다\").pack()\n",
    "\n",
    "root.mainloop()"
   ]
  },
  {
   "cell_type": "markdown",
   "id": "fa3e8eca",
   "metadata": {},
   "source": [
    "## side, fill"
   ]
  },
  {
   "cell_type": "code",
   "execution_count": 6,
   "id": "ba6b77c1",
   "metadata": {},
   "outputs": [],
   "source": [
    "from tkinter import *\n",
    "\n",
    "root = Tk()\n",
    "root.title(\"GUI 예제\")\n",
    "root.geometry(\"640x480\")\n",
    "\n",
    "frame_burger = Frame(root, relief=\"solid\", bd=1)\n",
    "frame_burger.pack(side=\"left\", fill=\"both\")\n",
    "\n",
    "Button(frame_burger, text=\"햄버거\").pack()\n",
    "Button(frame_burger, text=\"치즈버거\").pack()\n",
    "Button(frame_burger, text=\"치킨버거\").pack()\n",
    "\n",
    "frame_drink = LabelFrame(root, text=\"음료\")\n",
    "frame_drink.pack(side=\"right\", fill=\"both\")\n",
    "Button(frame_drink, text=\"콜라\").pack()\n",
    "Button(frame_drink, text=\"사이다\").pack()\n",
    "\n",
    "root.mainloop()"
   ]
  },
  {
   "cell_type": "markdown",
   "id": "992a7c1c",
   "metadata": {},
   "source": [
    "## expand"
   ]
  },
  {
   "cell_type": "code",
   "execution_count": 7,
   "id": "0a3ed6e7",
   "metadata": {},
   "outputs": [],
   "source": [
    "from tkinter import *\n",
    "\n",
    "root = Tk()\n",
    "root.title(\"GUI 예제\")\n",
    "root.geometry(\"640x480\")\n",
    "\n",
    "# 메뉴 프레임\n",
    "frame_burger = Frame(root, relief=\"solid\", bd=1)\n",
    "frame_burger.pack(side=\"left\", fill=\"both\", expand=True)\n",
    "\n",
    "Button(frame_burger, text=\"햄버거\").pack()\n",
    "Button(frame_burger, text=\"치즈버거\").pack()\n",
    "Button(frame_burger, text=\"치킨버거\").pack()\n",
    "\n",
    "# 음료 프레임\n",
    "frame_drink = LabelFrame(root, text=\"음료\")\n",
    "frame_drink.pack(side=\"right\", fill=\"both\", expand=True)\n",
    "\n",
    "Button(frame_drink, text=\"콜라\").pack()\n",
    "Button(frame_drink, text=\"사이다\").pack()\n",
    "\n",
    "root.mainloop()"
   ]
  },
  {
   "cell_type": "code",
   "execution_count": 8,
   "id": "1e746bd2",
   "metadata": {},
   "outputs": [],
   "source": [
    "from tkinter import *\n",
    "\n",
    "root = Tk()\n",
    "root.title(\"GUI 예제\")\n",
    "root.geometry(\"640x480\")\n",
    "\n",
    "Label(root, text=\"메뉴를 선택해 주세요\").pack(side=\"top\")\n",
    "\n",
    "Button(root, text=\"주문하기\").pack(side=\"bottom\")\n",
    "\n",
    "# 메뉴 프레임\n",
    "frame_burger = Frame(root, relief=\"solid\", bd=1)\n",
    "frame_burger.pack(side=\"left\", fill=\"both\", expand=True)\n",
    "\n",
    "Button(frame_burger, text=\"햄버거\").pack()\n",
    "Button(frame_burger, text=\"치즈버거\").pack()\n",
    "Button(frame_burger, text=\"치킨버거\").pack()\n",
    "\n",
    "# 음료 프레임\n",
    "frame_drink = LabelFrame(root, text=\"음료\")\n",
    "frame_drink.pack(side=\"right\", fill=\"both\", expand=True)\n",
    "\n",
    "Button(frame_drink, text=\"콜라\").pack()\n",
    "Button(frame_drink, text=\"사이다\").pack()\n",
    "\n",
    "root.mainloop()"
   ]
  }
 ],
 "metadata": {
  "kernelspec": {
   "display_name": "Python 3 (ipykernel)",
   "language": "python",
   "name": "python3"
  },
  "language_info": {
   "codemirror_mode": {
    "name": "ipython",
    "version": 3
   },
   "file_extension": ".py",
   "mimetype": "text/x-python",
   "name": "python",
   "nbconvert_exporter": "python",
   "pygments_lexer": "ipython3",
   "version": "3.9.7"
  }
 },
 "nbformat": 4,
 "nbformat_minor": 5
}
