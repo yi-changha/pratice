{
 "cells": [
  {
   "cell_type": "markdown",
   "id": "b04ca160",
   "metadata": {},
   "source": [
    "# 6. Checkbox"
   ]
  },
  {
   "cell_type": "code",
   "execution_count": 3,
   "id": "1b066539",
   "metadata": {},
   "outputs": [],
   "source": [
    "from tkinter import *\n",
    "root = Tk()\n",
    "root.title(\"GUI 예제\")\n",
    "root.geometry(\"640x480\")\n",
    "\n",
    "chkvar = IntVar() # chkvar 에 int 형으로 값을 저장한다.\n",
    "chkbox = Checkbutton(root, text=\"오늘 하루 보지 않기\", variable=chkvar)\n",
    "chkbox.select() # 자동 선택 처리\n",
    "chkbox.deselect() # 자동 선택 해제 처리\n",
    "chkbox.pack()\n",
    "\n",
    "def btncmd():\n",
    "    pass\n",
    "\n",
    "btn = Button(root, text=\"클릭\", command = btncmd)\n",
    "btn.pack()\n",
    "\n",
    "root.mainloop()"
   ]
  },
  {
   "cell_type": "markdown",
   "id": "1fc47d61",
   "metadata": {},
   "source": [
    "## 체크되었는지 확인"
   ]
  },
  {
   "cell_type": "code",
   "execution_count": 4,
   "id": "0ac01d5e",
   "metadata": {},
   "outputs": [
    {
     "name": "stdout",
     "output_type": "stream",
     "text": [
      "1\n",
      "0\n"
     ]
    }
   ],
   "source": [
    "from tkinter import *\n",
    "root = Tk()\n",
    "root.title(\"GUI 예제\")\n",
    "root.geometry(\"640x480\")\n",
    "\n",
    "chkvar = IntVar() # chkvar 에 int 형으로 값을 저장한다.\n",
    "chkbox = Checkbutton(root, text=\"오늘 하루 보지 않기\", variable=chkvar)\n",
    "chkbox.pack()\n",
    "\n",
    "def btncmd():\n",
    "    print(chkvar.get()) # 0 : 체크 해제, 1: 체크\n",
    "\n",
    "btn = Button(root, text=\"클릭\", command = btncmd)\n",
    "btn.pack()\n",
    "\n",
    "root.mainloop()"
   ]
  },
  {
   "cell_type": "code",
   "execution_count": 10,
   "id": "94e61083",
   "metadata": {},
   "outputs": [
    {
     "name": "stdout",
     "output_type": "stream",
     "text": [
      "1\n",
      "0\n",
      "1\n",
      "1\n",
      "0\n",
      "1\n"
     ]
    }
   ],
   "source": [
    "from tkinter import *\n",
    "root = Tk()\n",
    "root.title(\"GUI 예제\")\n",
    "root.geometry(\"640x480\")\n",
    "\n",
    "chkvar = IntVar() # chkvar 에 int 형으로 값을 저장한다.\n",
    "chkbox = Checkbutton(root, text=\"오늘 하루 보지 않기\", variable=chkvar)\n",
    "chkbox.pack()\n",
    "\n",
    "chkvar2= IntVar()\n",
    "chkbox2 = Checkbutton(root, text=\"일주일동안 보지 않기\", variable=chkvar2)\n",
    "chkbox2.pack()\n",
    "\n",
    "def btncmd():\n",
    "    print(chkvar.get()) # 0 : 체크 해제, 1: 체크\n",
    "    print(chkvar2.get()) # 0 : 체크 해제, 1: 체크\n",
    "\n",
    "btn = Button(root, text=\"클릭\", command = btncmd)\n",
    "btn.pack()\n",
    "\n",
    "root.mainloop()"
   ]
  }
 ],
 "metadata": {
  "kernelspec": {
   "display_name": "Python 3 (ipykernel)",
   "language": "python",
   "name": "python3"
  },
  "language_info": {
   "codemirror_mode": {
    "name": "ipython",
    "version": 3
   },
   "file_extension": ".py",
   "mimetype": "text/x-python",
   "name": "python",
   "nbconvert_exporter": "python",
   "pygments_lexer": "ipython3",
   "version": "3.9.7"
  }
 },
 "nbformat": 4,
 "nbformat_minor": 5
}
