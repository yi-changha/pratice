{
 "cells": [
  {
   "cell_type": "markdown",
   "id": "20dd7343",
   "metadata": {},
   "source": [
    "# 4. Text & Entry"
   ]
  },
  {
   "cell_type": "markdown",
   "id": "36f31e47",
   "metadata": {},
   "source": [
    "## Text\n",
    "- 여러 줄에 나누어서 글자 입력"
   ]
  },
  {
   "cell_type": "code",
   "execution_count": 3,
   "id": "594f26fa",
   "metadata": {},
   "outputs": [],
   "source": [
    "from tkinter import *\n",
    "root = Tk()\n",
    "root.title(\"GUI 예제\")\n",
    "root.geometry(\"640x480\")\n",
    "\n",
    "txt = Text(root, width = 30, height = 5)\n",
    "txt.pack()\n",
    "txt.insert(END, \"글자를 입력하세요\")\n",
    "\n",
    "root.mainloop()"
   ]
  },
  {
   "cell_type": "markdown",
   "id": "72b360f9",
   "metadata": {},
   "source": [
    "## Entry\n",
    "- Enter 키 사용 불가\n",
    "- 아이디, 비밀번호 입력 칸에 유용하게 쓰임."
   ]
  },
  {
   "cell_type": "code",
   "execution_count": 8,
   "id": "8930f221",
   "metadata": {},
   "outputs": [],
   "source": [
    "from tkinter import *\n",
    "root = Tk()\n",
    "root.title(\"GUI 예제\")\n",
    "root.geometry(\"640x480\")\n",
    "\n",
    "txt = Text(root, width = 30, height = 5)\n",
    "txt.pack()\n",
    "txt.insert(END, \"글자를 입력하세요\")\n",
    "\n",
    "e = Entry(root, width = 30)\n",
    "e.pack()\n",
    "e.insert(0, \"한 줄만 입력하세요\")\n",
    "\n",
    "root.mainloop()"
   ]
  },
  {
   "cell_type": "markdown",
   "id": "c222cf63",
   "metadata": {},
   "source": [
    "## 입력된 문자 가져오기"
   ]
  },
  {
   "cell_type": "code",
   "execution_count": 7,
   "id": "62d21405",
   "metadata": {
    "scrolled": true
   },
   "outputs": [
    {
     "name": "stdout",
     "output_type": "stream",
     "text": [
      "aaaaaaaaaaa\n",
      "\n",
      "bbbbbbbbb\n"
     ]
    }
   ],
   "source": [
    "from tkinter import *\n",
    "root = Tk()\n",
    "root.title(\"GUI 예제\")\n",
    "root.geometry(\"640x480\")\n",
    "\n",
    "txt = Text(root, width = 30, height = 5)\n",
    "txt.pack()\n",
    "txt.insert(END, \"글자를 입력하세요\")\n",
    "\n",
    "e = Entry(root, width = 30)\n",
    "e.pack()\n",
    "e.insert(0, \"한 줄만 입력하세요\")\n",
    "\n",
    "def btncmd():\n",
    "    print(txt.get(\"1.0\", END)) # 1 : 첫 번째 라인, 0 : 0 번째 column 위치\n",
    "    print(e.get())\n",
    "\n",
    "btn = Button(root, text=\"클릭\", command = btncmd)\n",
    "btn.pack()\n",
    "\n",
    "root.mainloop()"
   ]
  },
  {
   "cell_type": "markdown",
   "id": "2beb0427",
   "metadata": {},
   "source": [
    "## 입력된 내용 삭제"
   ]
  },
  {
   "cell_type": "code",
   "execution_count": 9,
   "id": "aecfd348",
   "metadata": {},
   "outputs": [
    {
     "name": "stdout",
     "output_type": "stream",
     "text": [
      "aaaaaaaaaa\n",
      "\n",
      "bbbbbbbbb\n"
     ]
    }
   ],
   "source": [
    "from tkinter import *\n",
    "root = Tk()\n",
    "root.title(\"GUI 예제\")\n",
    "root.geometry(\"640x480\")\n",
    "\n",
    "txt = Text(root, width = 30, height = 5)\n",
    "txt.pack()\n",
    "txt.insert(END, \"글자를 입력하세요\")\n",
    "\n",
    "e = Entry(root, width = 30)\n",
    "e.pack()\n",
    "e.insert(0, \"한 줄만 입력하세요\")\n",
    "\n",
    "def btncmd():\n",
    "    # 내용 출력\n",
    "    print(txt.get(\"1.0\", END)) # 1 : 첫 번째 라인, 0 : 0 번째 column 위치\n",
    "    print(e.get())\n",
    "    \n",
    "    # 내용 삭제\n",
    "    txt.delete(\"1.0\", END)\n",
    "    e.delete(0, END)\n",
    "\n",
    "btn = Button(root, text=\"클릭\", command = btncmd)\n",
    "btn.pack()\n",
    "\n",
    "root.mainloop()"
   ]
  }
 ],
 "metadata": {
  "kernelspec": {
   "display_name": "Python 3 (ipykernel)",
   "language": "python",
   "name": "python3"
  },
  "language_info": {
   "codemirror_mode": {
    "name": "ipython",
    "version": 3
   },
   "file_extension": ".py",
   "mimetype": "text/x-python",
   "name": "python",
   "nbconvert_exporter": "python",
   "pygments_lexer": "ipython3",
   "version": "3.9.7"
  }
 },
 "nbformat": 4,
 "nbformat_minor": 5
}
