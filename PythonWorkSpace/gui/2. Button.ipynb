{
 "cells": [
  {
   "cell_type": "markdown",
   "id": "ea4280ca",
   "metadata": {},
   "source": [
    "# 2. Button"
   ]
  },
  {
   "cell_type": "code",
   "execution_count": 1,
   "id": "5547ebdf",
   "metadata": {},
   "outputs": [],
   "source": [
    "from tkinter import *"
   ]
  },
  {
   "cell_type": "markdown",
   "id": "2902c9e6",
   "metadata": {},
   "source": [
    "## 버튼 생성과 크기 조절"
   ]
  },
  {
   "cell_type": "code",
   "execution_count": 4,
   "id": "0350ae7b",
   "metadata": {},
   "outputs": [],
   "source": [
    "root = Tk()\n",
    "root.title(\"GUT 예제\")\n",
    "\n",
    "btn1 = Button(root, text=\"버튼1\")\n",
    "btn1.pack()\n",
    "\n",
    "btn2 = Button(root, padx=5, pady =10, text=\"버튼2\")\n",
    "btn2.pack()\n",
    "\n",
    "btn3 = Button(root, padx=10, pady =5, text=\"버튼3\")\n",
    "btn3.pack()\n",
    "\n",
    "btn4 = Button(root, width=10, height=3, text=\"버튼4\")\n",
    "btn4.pack()\n",
    "\n",
    "root.mainloop()"
   ]
  },
  {
   "cell_type": "markdown",
   "id": "bbc191c1",
   "metadata": {},
   "source": [
    "- padx, pady는 문자를 출력한 후 여백 설정\n",
    "- width, height는 절대적인 버튼 크기"
   ]
  },
  {
   "cell_type": "code",
   "execution_count": 5,
   "id": "29ee0e3b",
   "metadata": {},
   "outputs": [],
   "source": [
    "root = Tk()\n",
    "root.title(\"GUT 예제\")\n",
    "\n",
    "btn2 = Button(root, padx=5, pady =10, text=\"버튼2222222222\")\n",
    "btn2.pack()\n",
    "\n",
    "btn4 = Button(root, width=10, height=3, text=\"버튼44444444444\")\n",
    "btn4.pack()\n",
    "\n",
    "root.mainloop()"
   ]
  },
  {
   "cell_type": "markdown",
   "id": "f42110b5",
   "metadata": {},
   "source": [
    "## 버튼에 색상, 이미지 넣기"
   ]
  },
  {
   "cell_type": "markdown",
   "id": "7aeda4c4",
   "metadata": {},
   "source": [
    "### ※ 오류 \n",
    "> PhotoImage(file = \"abcd.png\")\n",
    "\n",
    "위의 형식으로 이미지를 가져올 때 \"pyimage3\" doesn't exist 오류 발생.\n",
    "\n",
    "### 해결방안\n",
    "> PhtoImage( file = \"abcd.png\", master = root)\n",
    "\n",
    "루트(최상위)항목의 변수명을 master로 지정해주면 해결가능"
   ]
  },
  {
   "cell_type": "code",
   "execution_count": 17,
   "id": "3434a991",
   "metadata": {},
   "outputs": [],
   "source": [
    "root = Tk()\n",
    "root.title(\"GUT 예제\")\n",
    "\n",
    "btn1 = Button(root, text=\"버튼1\")\n",
    "btn1.pack()\n",
    "\n",
    "btn5 = Button(root, fg=\"red\", bg=\"yellow\", text=\"버튼5\")\n",
    "btn5.pack()\n",
    "\n",
    "photo = PhotoImage(file= \"img.png\",master = root)\n",
    "btn6 = Button(root, image=photo)\n",
    "btn6.pack()\n",
    "\n",
    "root.mainloop()"
   ]
  },
  {
   "cell_type": "markdown",
   "id": "34e7657a",
   "metadata": {},
   "source": [
    "## 버튼 기능 만들기"
   ]
  },
  {
   "cell_type": "code",
   "execution_count": 20,
   "id": "2b8f8380",
   "metadata": {},
   "outputs": [
    {
     "name": "stdout",
     "output_type": "stream",
     "text": [
      "버튼이 클릭되었어요\n",
      "버튼이 클릭되었어요\n",
      "버튼이 클릭되었어요\n"
     ]
    }
   ],
   "source": [
    "root = Tk()\n",
    "root.title(\"GUT 예제\")\n",
    "\n",
    "btn1 = Button(root, text=\"버튼1\")\n",
    "btn1.pack()\n",
    "\n",
    "def btncmd():\n",
    "    print(\"버튼이 클릭되었어요\")\n",
    "\n",
    "btn7 = Button(root, text=\"동작하는 버튼\", command = btncmd)\n",
    "btn7.pack()\n",
    "\n",
    "root.mainloop()"
   ]
  }
 ],
 "metadata": {
  "kernelspec": {
   "display_name": "Python 3 (ipykernel)",
   "language": "python",
   "name": "python3"
  },
  "language_info": {
   "codemirror_mode": {
    "name": "ipython",
    "version": 3
   },
   "file_extension": ".py",
   "mimetype": "text/x-python",
   "name": "python",
   "nbconvert_exporter": "python",
   "pygments_lexer": "ipython3",
   "version": "3.9.7"
  }
 },
 "nbformat": 4,
 "nbformat_minor": 5
}
