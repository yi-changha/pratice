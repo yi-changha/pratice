{
 "cells": [
  {
   "cell_type": "markdown",
   "id": "ab6a442a",
   "metadata": {},
   "source": [
    "# 1. Create Frame"
   ]
  },
  {
   "cell_type": "markdown",
   "id": "6ebcdb5f",
   "metadata": {},
   "source": [
    "## tkinter 불러오기"
   ]
  },
  {
   "cell_type": "code",
   "execution_count": 1,
   "id": "773ba13f",
   "metadata": {},
   "outputs": [],
   "source": [
    "from tkinter import *"
   ]
  },
  {
   "cell_type": "markdown",
   "id": "2eab227d",
   "metadata": {},
   "source": [
    "## window 출력"
   ]
  },
  {
   "cell_type": "code",
   "execution_count": 5,
   "id": "ac08f6b0",
   "metadata": {},
   "outputs": [],
   "source": [
    "root = Tk()\n",
    "root.title(\"GUI 예제\")\n",
    "root.geometry(\"640x480\") # 가로 x 세로\n",
    "#root.geometry(\"640x480+100+300\") # 가로 x 세로 + x좌표 + y좌표 \n",
    "\n",
    "root.mainloop()"
   ]
  },
  {
   "cell_type": "code",
   "execution_count": 7,
   "id": "384fb87e",
   "metadata": {},
   "outputs": [],
   "source": [
    "root = Tk()\n",
    "root.title(\"GUI 예제\")\n",
    "root.geometry(\"640x480\") # 가로 x 세로\n",
    "\n",
    "root.resizable(False, False) # x(너비), y(높이) 값 변경 불가 (창 크기 변경 불가)\n",
    "\n",
    "root.mainloop()"
   ]
  }
 ],
 "metadata": {
  "kernelspec": {
   "display_name": "Python 3 (ipykernel)",
   "language": "python",
   "name": "python3"
  },
  "language_info": {
   "codemirror_mode": {
    "name": "ipython",
    "version": 3
   },
   "file_extension": ".py",
   "mimetype": "text/x-python",
   "name": "python",
   "nbconvert_exporter": "python",
   "pygments_lexer": "ipython3",
   "version": "3.9.7"
  }
 },
 "nbformat": 4,
 "nbformat_minor": 5
}
