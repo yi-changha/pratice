{
 "cells": [
  {
   "cell_type": "code",
   "execution_count": 1,
   "id": "6cca6b02",
   "metadata": {},
   "outputs": [
    {
     "data": {
      "text/plain": [
       "'4.5.5'"
      ]
     },
     "execution_count": 1,
     "metadata": {},
     "output_type": "execute_result"
    }
   ],
   "source": [
    "import cv2\n",
    "cv2.__version__"
   ]
  },
  {
   "cell_type": "markdown",
   "id": "302e6661",
   "metadata": {},
   "source": [
    "# 3. 도형 그리기"
   ]
  },
  {
   "cell_type": "markdown",
   "id": "fbf480b8",
   "metadata": {},
   "source": [
    "## 빈 스케치북 만들기"
   ]
  },
  {
   "cell_type": "code",
   "execution_count": 6,
   "id": "4b058692",
   "metadata": {},
   "outputs": [],
   "source": [
    "import cv2\n",
    "import numpy as np\n",
    "\n",
    "# 세로 480 x 가로 640, 3Channel (RGB) 에 해당하는 스케치북 만들기\n",
    "img = np.zeros((480, 640, 3), dtype=np.uint8)\n",
    "#img[:] = (255, 255, 255) # 전체 공간을 흰 색으로 채우기 (B, G, R)\n",
    "#print(img)\n",
    "cv2.imshow('img', img)\n",
    "cv2.waitKey(0)\n",
    "cv2.destroyAllWindows()"
   ]
  },
  {
   "cell_type": "markdown",
   "id": "eba6ba69",
   "metadata": {},
   "source": [
    "## 일부 영역 색칠"
   ]
  },
  {
   "cell_type": "code",
   "execution_count": 7,
   "id": "0779ad0e",
   "metadata": {},
   "outputs": [],
   "source": [
    "import cv2\n",
    "import numpy as np\n",
    "\n",
    "img = np.zeros((480, 640, 3), dtype=np.uint8)\n",
    "img[100:200, 200:300] = (255, 255, 255)\n",
    "# [세로 영역, 가로영역]\n",
    "\n",
    "cv2.imshow('img', img)\n",
    "cv2.waitKey(0)\n",
    "cv2.destroyAllWindows()"
   ]
  },
  {
   "cell_type": "markdown",
   "id": "362b3882",
   "metadata": {},
   "source": [
    "## 직선\n",
    "직선의 종류 (line type)\n",
    "\n",
    "1. cv2.LINE_4 : 상하좌우 4 방향으로 연결된 선\n",
    "1. cv2.LINE_8 : 대각선을 포함한 8 방향으로 연결된 선(기본값)\n",
    "1. cv2.LINE_AA : 부드러운 선(anti_aliasing)"
   ]
  },
  {
   "cell_type": "code",
   "execution_count": 10,
   "id": "e572c65a",
   "metadata": {},
   "outputs": [],
   "source": [
    "import cv2\n",
    "import numpy as np\n",
    "\n",
    "img = np.zeros((480, 640, 3), dtype=np.uint8)\n",
    "\n",
    "COLOR = (0, 255, 255) # BGR : Yellow, 색깔\n",
    "THICKNESS = 3 # 두께\n",
    "\n",
    "cv2.line(img, (50, 100), (400, 50), COLOR, THICKNESS, cv2.LINE_8)\n",
    "# 그릴 위치, 시작점, 끝 점, 색깔, 두께, 선 종류\n",
    "cv2.line(img, (50, 200), (400, 50), COLOR, THICKNESS, cv2.LINE_4)\n",
    "cv2.line(img, (50, 300), (400, 50), COLOR, THICKNESS, cv2.LINE_AA)\n",
    "\n",
    "cv2.imshow('img', img)\n",
    "cv2.waitKey(0)\n",
    "cv2.destroyAllWindows()"
   ]
  },
  {
   "cell_type": "markdown",
   "id": "54a457e6",
   "metadata": {},
   "source": [
    "## 원"
   ]
  },
  {
   "cell_type": "code",
   "execution_count": 13,
   "id": "fa25c4bb",
   "metadata": {},
   "outputs": [],
   "source": [
    "import cv2\n",
    "import numpy as np\n",
    "\n",
    "img = np.zeros((480, 640, 3), dtype=np.uint8)\n",
    "\n",
    "COLOR = (255, 255, 0 ) # BGR : 옥색\n",
    "RADIUS = 50 # 반지름\n",
    "THICKNESS = 10 # 두께\n",
    "\n",
    "cv2.circle(img, (200, 100), RADIUS, COLOR, THICKNESS, cv2.LINE_AA) # 속이 빈 원\n",
    "# 그릴 위치, 원의 중심점, 반지름, 색깔, 두께, 선 종류\n",
    "cv2.circle(img, (400, 100), RADIUS, COLOR, cv2.FILLED, cv2.LINE_AA) # 꽉 찬 원\n",
    "cv2.circle(img, (400, 300), RADIUS, COLOR, -1, cv2.LINE_AA) # 꽉 찬 원\n",
    "\n",
    "cv2.imshow('img', img)\n",
    "cv2.waitKey(0)\n",
    "cv2.destroyAllWindows()"
   ]
  },
  {
   "cell_type": "markdown",
   "id": "cfaaab4e",
   "metadata": {},
   "source": [
    "## 사각형"
   ]
  },
  {
   "cell_type": "code",
   "execution_count": 17,
   "id": "61fb7a01",
   "metadata": {},
   "outputs": [],
   "source": [
    "import cv2\n",
    "import numpy as np\n",
    "\n",
    "img = np.zeros((480, 640, 3), dtype=np.uint8)\n",
    "\n",
    "COLOR = (0, 255, 0 ) # BGR : 초록색\n",
    "THICKNESS = 3 # 두께\n",
    "\n",
    "cv2.rectangle(img, (100, 100), (200, 200), COLOR, THICKNESS) # 속이 빈 사각형\n",
    "# 그릴 위치, 좌상단 좌표, 우하단 좌표, 색깔, 두꼐\n",
    "cv2.rectangle(img, (300, 100), (400, 300), COLOR, -1) # 꽉 찬 사각형\n",
    "\n",
    "cv2.imshow('img', img)\n",
    "cv2.waitKey(0)\n",
    "cv2.destroyAllWindows()"
   ]
  },
  {
   "cell_type": "markdown",
   "id": "4433efb9",
   "metadata": {},
   "source": [
    "## 다각형"
   ]
  },
  {
   "cell_type": "code",
   "execution_count": 37,
   "id": "318c4fdb",
   "metadata": {},
   "outputs": [],
   "source": [
    "import cv2\n",
    "import numpy as np\n",
    "\n",
    "img = np.zeros((600, 800, 3), dtype=np.uint8)\n",
    "\n",
    "COLOR = (0, 0, 255 ) # BGR : 빨간색\n",
    "THICKNESS = 3 # 두께\n",
    "\n",
    "pts1 = np.array([[100, 100], [200, 100], [100, 200]])\n",
    "pts2 = np.array([[100, 300], [200, 300], [100, 400]])\n",
    "pts3 = np.array([[200, 100], [300, 100], [300, 200]])\n",
    "\n",
    "#cv2.polylines(img, [pts1], True, COLOR, THICKNESS, cv2.LINE_AA)\n",
    "cv2.polylines(img, [pts2], False, COLOR, THICKNESS, cv2.LINE_AA)\n",
    "#cv2.polylines(img, [pts3], True, COLOR, THICKNESS, cv2.LINE_AA)\n",
    "cv2.polylines(img, [pts1, pts3], True, COLOR, THICKNESS, cv2.LINE_AA) # 속이 빈 다각형\n",
    "# 그릴 위치, 그릴 좌표들, 닫힘 여부, 색깔, 두께, 선 종류\n",
    "\n",
    "# 속이 꽉 찬 다각형\n",
    "pts4 = np.array([[[500, 100], [600, 100], [500, 200]],[[600, 100], [700, 100], [700, 200]]])\n",
    "cv2.fillPoly(img, pts4, COLOR, cv2.LINE_AA)\n",
    "\n",
    "cv2.imshow('img', img)\n",
    "cv2.waitKey(0)\n",
    "cv2.destroyAllWindows()"
   ]
  }
 ],
 "metadata": {
  "kernelspec": {
   "display_name": "Python 3 (ipykernel)",
   "language": "python",
   "name": "python3"
  },
  "language_info": {
   "codemirror_mode": {
    "name": "ipython",
    "version": 3
   },
   "file_extension": ".py",
   "mimetype": "text/x-python",
   "name": "python",
   "nbconvert_exporter": "python",
   "pygments_lexer": "ipython3",
   "version": "3.9.7"
  }
 },
 "nbformat": 4,
 "nbformat_minor": 5
}
