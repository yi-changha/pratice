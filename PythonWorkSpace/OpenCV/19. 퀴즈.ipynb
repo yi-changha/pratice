{
 "cells": [
  {
   "cell_type": "markdown",
   "id": "e1220c28",
   "metadata": {},
   "source": [
    "# 퀴즈\n",
    "## OpenCV 를 이용하여 가로로 촬영된 영상을 세로로 회전하는 프로그램을 작성하시오\n",
    "### 조건\n",
    "1. 회전 : 시계 반대방향으로 90도\n",
    "1. 재생속도 (FPS) : 원본 x 4배\n",
    "1. 출력 파일명 : city_output.avi(코덱:DIVX)\n",
    "\n",
    "- 원본 파일명 : city.mp4"
   ]
  },
  {
   "cell_type": "code",
   "execution_count": 8,
   "id": "24a8ab28",
   "metadata": {},
   "outputs": [],
   "source": [
    "import cv2\n",
    "cap = cv2.VideoCapture('city.mp4')\n",
    "\n",
    "# 코덱 정의\n",
    "fourcc = cv2.VideoWriter_fourcc(* 'DIVX')\n",
    "\n",
    "# 프레임 크기, FPS\n",
    "width = round(cap.get(cv2.CAP_PROP_FRAME_WIDTH))\n",
    "height = round(cap.get(cv2.CAP_PROP_FRAME_HEIGHT))\n",
    "fps = cap.get(cv2.CAP_PROP_FPS)\n",
    "\n",
    "out = cv2.VideoWriter('city_output.avi', fourcc, fps * 4, (height, width))\n",
    "# 저장 파일명, 코덱, FPS, 크기(width, height) \n",
    "\n",
    "while cap.isOpened():\n",
    "    ret, frame = cap.read()\n",
    "    if not ret:\n",
    "        break\n",
    "    \n",
    "    frame_rot = cv2.rotate(frame, cv2.ROTATE_90_CLOCKWISE) # 시계 방향으로 90도 회전\n",
    "    \n",
    "    out.write(frame_rot) # 영상 데이터만 저장 (소리 X)\n",
    "    cv2.imshow('city_rotate.mp4', frame_rot)\n",
    "    if cv2.waitKey(1) == ord('q'):\n",
    "        break\n",
    "\n",
    "out.release() # 자원 해제\n",
    "cap.release()\n",
    "cv2.destroyAllWindows()"
   ]
  }
 ],
 "metadata": {
  "kernelspec": {
   "display_name": "Python 3 (ipykernel)",
   "language": "python",
   "name": "python3"
  },
  "language_info": {
   "codemirror_mode": {
    "name": "ipython",
    "version": 3
   },
   "file_extension": ".py",
   "mimetype": "text/x-python",
   "name": "python",
   "nbconvert_exporter": "python",
   "pygments_lexer": "ipython3",
   "version": "3.9.7"
  }
 },
 "nbformat": 4,
 "nbformat_minor": 5
}
